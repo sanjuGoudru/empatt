{
 "cells": [
  {
   "cell_type": "code",
   "execution_count": 2,
   "metadata": {},
   "outputs": [],
   "source": [
    "import numpy as np, pandas as pd, seaborn as sns, matplotlib.pyplot as plt\n",
    "pd.pandas.set_option('display.max_columns',None)"
   ]
  },
  {
   "cell_type": "code",
   "execution_count": 2,
   "metadata": {},
   "outputs": [],
   "source": [
    "df = pd.read_csv('WA_Fn-UseC_-HR-Employee-Attrition.csv')"
   ]
  },
  {
   "cell_type": "code",
   "execution_count": 3,
   "metadata": {},
   "outputs": [
    {
     "data": {
      "text/plain": [
       "(1470, 35)"
      ]
     },
     "execution_count": 3,
     "metadata": {},
     "output_type": "execute_result"
    }
   ],
   "source": [
    "df.shape"
   ]
  },
  {
   "cell_type": "markdown",
   "metadata": {},
   "source": [
    "## Removing constant values"
   ]
  },
  {
   "cell_type": "code",
   "execution_count": 1,
   "metadata": {},
   "outputs": [],
   "source": [
    "preprocess_dict = dict()"
   ]
  },
  {
   "cell_type": "code",
   "execution_count": null,
   "metadata": {},
   "outputs": [],
   "source": [
    "preprocess_dict['rem_constant']"
   ]
  },
  {
   "cell_type": "markdown",
   "metadata": {},
   "source": [
    "## Splitting Dataset"
   ]
  },
  {
   "cell_type": "code",
   "execution_count": 8,
   "metadata": {},
   "outputs": [],
   "source": [
    "from sklearn.model_selection import train_test_split\n",
    "X_train,X_test,y_train,y_test=train_test_split(df.drop(labels=['Attrition'],axis=1),\n",
    "                                               df['Attrition'],\n",
    "                                               test_size=0.3,\n",
    "                                               stratify=df['Attrition'],\n",
    "                                              random_state=100)"
   ]
  },
  {
   "cell_type": "code",
   "execution_count": 9,
   "metadata": {},
   "outputs": [],
   "source": [
    "X_train.reset_index(drop=True).to_csv('Data/X_train_org.csv',index=False)\n",
    "X_test.reset_index(drop=True).to_csv('Data/X_test_org.csv',index=False)"
   ]
  },
  {
   "cell_type": "code",
   "execution_count": 10,
   "metadata": {},
   "outputs": [],
   "source": [
    "y_train.reset_index(drop=True).to_csv('Data/y_train_org.csv',index=False)\n",
    "y_test.reset_index(drop=True).to_csv('Data/y_test_org.csv',index=False)"
   ]
  },
  {
   "cell_type": "markdown",
   "metadata": {},
   "source": [
    "# Encoding"
   ]
  },
  {
   "cell_type": "code",
   "execution_count": 11,
   "metadata": {},
   "outputs": [],
   "source": [
    "## Label Encoding Attrition\n",
    "\n",
    "attrition_map = {\n",
    "    'Yes' : 1,\n",
    "    'No' : 0\n",
    "}\n",
    "\n",
    "y_train = y_train.map(attrition_map)\n",
    "y_test = y_test.map(attrition_map)"
   ]
  },
  {
   "cell_type": "code",
   "execution_count": null,
   "metadata": {},
   "outputs": [],
   "source": [
    "X_train['BusinessTravel'].unique()"
   ]
  },
  {
   "cell_type": "code",
   "execution_count": null,
   "metadata": {},
   "outputs": [],
   "source": [
    "## Label encoding 'BusinessTravel' as it is Ordinal feature\n",
    "\n",
    "businessTravel_map = {\n",
    "    'Travel_Frequently' : 2,\n",
    "    'Travel_Rarely' : 1,\n",
    "    'Non-Travel' : 0\n",
    "}\n",
    "\n",
    "X_train['BusinessTravel'] = X_train['BusinessTravel'].map(businessTravel_map)\n",
    "X_test['BusinessTravel'] = X_test['BusinessTravel'].map(businessTravel_map)"
   ]
  },
  {
   "cell_type": "code",
   "execution_count": null,
   "metadata": {},
   "outputs": [],
   "source": [
    "from sklearn.preprocessing import OneHotEncoder"
   ]
  },
  {
   "cell_type": "code",
   "execution_count": null,
   "metadata": {},
   "outputs": [],
   "source": [
    "nominal_categories = ['Department','EducationField','Gender','JobRole','MaritalStatus','OverTime']\n",
    "\n",
    "train_nominal_cat = pd.get_dummies(data=X_train[nominal_categories],drop_first=True)"
   ]
  },
  {
   "cell_type": "code",
   "execution_count": null,
   "metadata": {},
   "outputs": [],
   "source": [
    "train_enc_nominal_cat = dict()\n",
    "\n",
    "for col in train_nominal_cat.columns.values:\n",
    "    splitted = col.split('_')\n",
    "    if(splitted[0] not in train_enc_nominal_cat):\n",
    "        train_enc_nominal_cat[splitted[0]] = []\n",
    "    train_enc_nominal_cat[splitted[0]].append(splitted[1])\n",
    "train_enc_nominal_cat"
   ]
  },
  {
   "cell_type": "code",
   "execution_count": null,
   "metadata": {},
   "outputs": [],
   "source": [
    "test_nominal_cat = pd.get_dummies(data=X_test[nominal_categories],drop_first=True)\n",
    "\n",
    "test_enc_nominal_cat = dict()\n",
    "\n",
    "for col in test_nominal_cat.columns.values:\n",
    "    splitted = col.split('_')\n",
    "    if(splitted[0] not in test_enc_nominal_cat):\n",
    "        test_enc_nominal_cat[splitted[0]] = []\n",
    "    test_enc_nominal_cat[splitted[0]].append(splitted[1])\n",
    "test_enc_nominal_cat"
   ]
  },
  {
   "cell_type": "code",
   "execution_count": null,
   "metadata": {},
   "outputs": [],
   "source": [
    "shared_items = {k: train_enc_nominal_cat[k] for k in train_enc_nominal_cat if k in test_enc_nominal_cat and train_enc_nominal_cat[k] == test_enc_nominal_cat[k]}\n",
    "\n",
    "print('Difference between categories encoded between training and test:',len(train_enc_nominal_cat)-len(shared_items))"
   ]
  },
  {
   "cell_type": "code",
   "execution_count": null,
   "metadata": {},
   "outputs": [],
   "source": [
    "X_train = pd.concat([X_train.reset_index(drop=True),train_nominal_cat.reset_index(drop=True)],axis=1)\n",
    "X_train = X_train.drop(labels=nominal_categories,axis=1)\n",
    "X_train.head()"
   ]
  },
  {
   "cell_type": "code",
   "execution_count": null,
   "metadata": {},
   "outputs": [],
   "source": [
    "X_test = pd.concat([X_test.reset_index(drop=True),test_nominal_cat.reset_index(drop=True)],axis=1)\n",
    "X_test = X_test.drop(labels=nominal_categories,axis=1)\n",
    "X_test.head()"
   ]
  },
  {
   "cell_type": "code",
   "execution_count": null,
   "metadata": {},
   "outputs": [],
   "source": [
    "X_train.shape,X_test.shape"
   ]
  },
  {
   "cell_type": "code",
   "execution_count": null,
   "metadata": {
    "scrolled": true
   },
   "outputs": [],
   "source": [
    "y_train.shape,y_test.shape"
   ]
  },
  {
   "cell_type": "markdown",
   "metadata": {},
   "source": [
    "### Save Encoded Data "
   ]
  },
  {
   "cell_type": "code",
   "execution_count": null,
   "metadata": {},
   "outputs": [],
   "source": [
    "X_train.to_csv('Data/X_train_enc.csv',index=False)\n",
    "X_test.to_csv('Data/X_test_enc.csv',index=False)\n",
    "y_train.to_csv('Data/y_train_enc.csv',index=False)\n",
    "y_test.to_csv('Data/y_test_enc.csv',index=False)"
   ]
  },
  {
   "cell_type": "code",
   "execution_count": null,
   "metadata": {},
   "outputs": [],
   "source": [
    "df = pd.concat([X_train,y_train],axis=1)\n",
    "df.shape"
   ]
  },
  {
   "cell_type": "markdown",
   "metadata": {},
   "source": [
    "## Correlation Analysis"
   ]
  },
  {
   "cell_type": "code",
   "execution_count": null,
   "metadata": {},
   "outputs": [],
   "source": [
    "cols = ['DailyRate','DistanceFromHome','Education',\n",
    "        'EnvironmentSatisfaction','HourlyRate','JobInvolvement',\n",
    "        'JobLevel','JobSatisfaction','MonthlyIncome','MonthlyRate',\n",
    "        'NumCompaniesWorked','PercentSalaryHike','PerformanceRating',\n",
    "        'RelationshipSatisfaction','StockOptionLevel','TotalWorkingYears',\n",
    "        'TrainingTimesLastYear','WorkLifeBalance','YearsAtCompany','YearsInCurrentRole',\n",
    "        'YearsSinceLastPromotion','YearsWithCurrManager']"
   ]
  },
  {
   "cell_type": "code",
   "execution_count": null,
   "metadata": {},
   "outputs": [],
   "source": [
    "plt.figure(figsize=(20,15))\n",
    "sns.heatmap(df[cols].corr(),annot=True)"
   ]
  },
  {
   "cell_type": "code",
   "execution_count": null,
   "metadata": {},
   "outputs": [],
   "source": [
    "def correlated_features(dataset,threshold,method='pearson'):\n",
    "    col_corr = []\n",
    "    cor_matrix = dataset.corr(method=method)\n",
    "    for i in range(len(cor_matrix.columns)):\n",
    "        for j in range(i):\n",
    "            if abs(cor_matrix.iloc[i,j]) > threshold:\n",
    "                colname = cor_matrix.columns[i]\n",
    "                col_corr.append(colname)\n",
    "    return col_corr"
   ]
  },
  {
   "cell_type": "code",
   "execution_count": null,
   "metadata": {},
   "outputs": [],
   "source": [
    "corr_features = correlated_features(df[cols],0.8)\n",
    "print(len(corr_features))\n",
    "for feat in corr_features:\n",
    "    print(feat)"
   ]
  },
  {
   "cell_type": "markdown",
   "metadata": {},
   "source": [
    "## ML"
   ]
  },
  {
   "cell_type": "code",
   "execution_count": 12,
   "metadata": {},
   "outputs": [],
   "source": [
    "X = pd.read_csv('Data/X_train_enc.csv')\n",
    "y = pd.read_csv('Data/y_train_enc.csv')\n",
    "\n",
    "X_test = pd.read_csv('Data/X_test_enc.csv')\n",
    "y_test = pd.read_csv('Data/y_test_enc.csv')"
   ]
  },
  {
   "cell_type": "code",
   "execution_count": 13,
   "metadata": {},
   "outputs": [
    {
     "data": {
      "text/plain": [
       "((1029, 43), (1029, 1), (441, 43), (441, 1))"
      ]
     },
     "execution_count": 13,
     "metadata": {},
     "output_type": "execute_result"
    }
   ],
   "source": [
    "X.shape,y.shape,X_test.shape,y_test.shape"
   ]
  },
  {
   "cell_type": "code",
   "execution_count": 14,
   "metadata": {},
   "outputs": [
    {
     "name": "stdout",
     "output_type": "stream",
     "text": [
      "0.7.0\n"
     ]
    }
   ],
   "source": [
    "import imblearn\n",
    "print(imblearn.__version__)"
   ]
  },
  {
   "cell_type": "code",
   "execution_count": 15,
   "metadata": {},
   "outputs": [],
   "source": [
    "from imblearn.over_sampling import ADASYN"
   ]
  },
  {
   "cell_type": "code",
   "execution_count": 16,
   "metadata": {},
   "outputs": [],
   "source": [
    "X, y = ADASYN().fit_resample(X, y)"
   ]
  },
  {
   "cell_type": "code",
   "execution_count": 17,
   "metadata": {},
   "outputs": [
    {
     "data": {
      "text/plain": [
       "((1685, 43), (1685, 1))"
      ]
     },
     "execution_count": 17,
     "metadata": {},
     "output_type": "execute_result"
    }
   ],
   "source": [
    "X.shape,y.shape"
   ]
  },
  {
   "cell_type": "code",
   "execution_count": 18,
   "metadata": {},
   "outputs": [],
   "source": [
    "from sklearn.ensemble import StackingClassifier, RandomForestClassifier,AdaBoostClassifier, GradientBoostingClassifier\n",
    "from sklearn.linear_model import LogisticRegression\n",
    "from sklearn.svm import SVC\n",
    "from sklearn.naive_bayes import GaussianNB\n",
    "from xgboost import XGBClassifier\n",
    "import lightgbm as lgb\n",
    "from sklearn.tree import DecisionTreeClassifier"
   ]
  },
  {
   "cell_type": "code",
   "execution_count": 19,
   "metadata": {},
   "outputs": [],
   "source": [
    "rfc = RandomForestClassifier()\n",
    "ada = AdaBoostClassifier()\n",
    "gbc = GradientBoostingClassifier()\n",
    "lr = LogisticRegression()\n",
    "svc = SVC()\n",
    "gnb = GaussianNB()\n",
    "xgb = XGBClassifier()\n",
    "dt = DecisionTreeClassifier()"
   ]
  },
  {
   "cell_type": "code",
   "execution_count": 20,
   "metadata": {},
   "outputs": [],
   "source": [
    "estimators = [\n",
    "    ('ada',ada),\n",
    "    \n",
    "    ('gbc',gbc),\n",
    "    ('lr',lr),\n",
    "    ('svc',svc),\n",
    "    \n",
    "    ('gnb',gnb),\n",
    "    \n",
    "    ('xgb',xgb),\n",
    "    \n",
    "    ('dt',dt)\n",
    "]"
   ]
  },
  {
   "cell_type": "code",
   "execution_count": 21,
   "metadata": {},
   "outputs": [],
   "source": [
    "stk_classifier = StackingClassifier(estimators=estimators, \n",
    "                                    final_estimator=RandomForestClassifier(n_estimators=100),\n",
    "                                    passthrough=True,\n",
    "                                    cv=5,\n",
    "                                    n_jobs=-1,\n",
    "                                    verbose=3)"
   ]
  },
  {
   "cell_type": "code",
   "execution_count": 26,
   "metadata": {},
   "outputs": [
    {
     "data": {
      "text/plain": [
       "StackingClassifier(cv=5,\n",
       "                   estimators=[('ada', AdaBoostClassifier()),\n",
       "                               ('gbc', GradientBoostingClassifier()),\n",
       "                               ('lr', LogisticRegression()), ('svc', SVC()),\n",
       "                               ('gnb', GaussianNB()),\n",
       "                               ('xgb',\n",
       "                                XGBClassifier(base_score=None, booster=None,\n",
       "                                              colsample_bylevel=None,\n",
       "                                              colsample_bynode=None,\n",
       "                                              colsample_bytree=None, gamma=None,\n",
       "                                              gpu_id=None,\n",
       "                                              importance_type='gain',\n",
       "                                              interaction_constraint...\n",
       "                                              min_child_weight=None,\n",
       "                                              missing=nan,\n",
       "                                              monotone_constraints=None,\n",
       "                                              n_estimators=100, n_jobs=None,\n",
       "                                              num_parallel_tree=None,\n",
       "                                              random_state=None, reg_alpha=None,\n",
       "                                              reg_lambda=None,\n",
       "                                              scale_pos_weight=None,\n",
       "                                              subsample=None, tree_method=None,\n",
       "                                              validate_parameters=None,\n",
       "                                              verbosity=None)),\n",
       "                               ('dt', DecisionTreeClassifier())],\n",
       "                   final_estimator=RandomForestClassifier(), n_jobs=-1,\n",
       "                   passthrough=True, verbose=3)"
      ]
     },
     "execution_count": 26,
     "metadata": {},
     "output_type": "execute_result"
    }
   ],
   "source": [
    "stk_classifier.fit(X,y['Attrition'])"
   ]
  },
  {
   "cell_type": "code",
   "execution_count": 24,
   "metadata": {},
   "outputs": [],
   "source": [
    "from sklearn.metrics import confusion_matrix,classification_report,accuracy_score,fbeta_score"
   ]
  },
  {
   "cell_type": "code",
   "execution_count": 27,
   "metadata": {
    "scrolled": false
   },
   "outputs": [
    {
     "name": "stdout",
     "output_type": "stream",
     "text": [
      "Accuracy: 0.8775510204081632\n",
      "[[356  14]\n",
      " [ 40  31]]\n",
      "              precision    recall  f1-score   support\n",
      "\n",
      "           0       0.90      0.96      0.93       370\n",
      "           1       0.69      0.44      0.53        71\n",
      "\n",
      "    accuracy                           0.88       441\n",
      "   macro avg       0.79      0.70      0.73       441\n",
      "weighted avg       0.87      0.88      0.87       441\n",
      "\n"
     ]
    }
   ],
   "source": [
    "y_pred = stk_classifier.predict(X_test)\n",
    "print('Accuracy:',accuracy_score(y_test,y_pred))\n",
    "print(confusion_matrix(y_test,y_pred))\n",
    "print(classification_report(y_test,y_pred))"
   ]
  },
  {
   "cell_type": "code",
   "execution_count": 28,
   "metadata": {},
   "outputs": [],
   "source": [
    "import pickle\n",
    "pickle.dump(stk_classifier, open('stk_final1', 'wb'))"
   ]
  }
 ],
 "metadata": {
  "kernelspec": {
   "display_name": "Python 3",
   "language": "python",
   "name": "python3"
  },
  "language_info": {
   "codemirror_mode": {
    "name": "ipython",
    "version": 3
   },
   "file_extension": ".py",
   "mimetype": "text/x-python",
   "name": "python",
   "nbconvert_exporter": "python",
   "pygments_lexer": "ipython3",
   "version": "3.8.3"
  }
 },
 "nbformat": 4,
 "nbformat_minor": 4
}
