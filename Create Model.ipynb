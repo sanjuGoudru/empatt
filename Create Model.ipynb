{
 "cells": [
  {
   "cell_type": "code",
   "execution_count": 2,
   "metadata": {},
   "outputs": [],
   "source": [
    "import numpy as np, pandas as pd, seaborn as sns, matplotlib.pyplot as plt\n",
    "pd.pandas.set_option('display.max_columns',None)"
   ]
  },
  {
   "cell_type": "code",
   "execution_count": 9,
   "metadata": {},
   "outputs": [],
   "source": [
    "df = pd.read_csv('uploads/WA_Fn-UseC_-HR-Employee-Attrition.csv')"
   ]
  },
  {
   "cell_type": "code",
   "execution_count": 3,
   "metadata": {},
   "outputs": [
    {
     "data": {
      "text/plain": [
       "(1470, 35)"
      ]
     },
     "execution_count": 3,
     "metadata": {},
     "output_type": "execute_result"
    }
   ],
   "source": [
    "df.shape"
   ]
  },
  {
   "cell_type": "markdown",
   "metadata": {},
   "source": [
    "## Removing constant values"
   ]
  },
  {
   "cell_type": "code",
   "execution_count": 1,
   "metadata": {},
   "outputs": [],
   "source": [
    "preprocess_dict = dict()"
   ]
  },
  {
   "cell_type": "code",
   "execution_count": 3,
   "metadata": {},
   "outputs": [],
   "source": [
    "preprocess_dict['rem_constant_features'] = ['EmployeeCount','EmployeeNumber','Over18','StandardHours']"
   ]
  },
  {
   "cell_type": "markdown",
   "metadata": {},
   "source": [
    "# Encoding"
   ]
  },
  {
   "cell_type": "code",
   "execution_count": 4,
   "metadata": {},
   "outputs": [],
   "source": [
    "preprocess_dict['Attrition'] = {'Yes':1,'No':0}"
   ]
  },
  {
   "cell_type": "code",
   "execution_count": 5,
   "metadata": {},
   "outputs": [],
   "source": [
    "preprocess_dict['BusinessTravel'] = {\n",
    "    'Travel_Frequently' : 2,\n",
    "    'Travel_Rarely' : 1,\n",
    "    'Non-Travel' : 0\n",
    "}"
   ]
  },
  {
   "cell_type": "code",
   "execution_count": 7,
   "metadata": {},
   "outputs": [],
   "source": [
    "preprocess_dict['onehot_encoded_features'] = ['Department','EducationField','Gender','JobRole','MaritalStatus','OverTime']"
   ]
  },
  {
   "cell_type": "code",
   "execution_count": 17,
   "metadata": {},
   "outputs": [
    {
     "data": {
      "text/plain": [
       "{'Department': ['Research & Development', 'Sales'],\n",
       " 'EducationField': ['Life Sciences',\n",
       "  'Marketing',\n",
       "  'Medical',\n",
       "  'Other',\n",
       "  'Technical Degree'],\n",
       " 'Gender': ['Male'],\n",
       " 'JobRole': ['Human Resources',\n",
       "  'Laboratory Technician',\n",
       "  'Manager',\n",
       "  'Manufacturing Director',\n",
       "  'Research Director',\n",
       "  'Research Scientist',\n",
       "  'Sales Executive',\n",
       "  'Sales Representative'],\n",
       " 'MaritalStatus': ['Married', 'Single'],\n",
       " 'OverTime': ['Yes']}"
      ]
     },
     "execution_count": 17,
     "metadata": {},
     "output_type": "execute_result"
    }
   ],
   "source": [
    "onehot_cols = pd.get_dummies(df[['Department','EducationField','Gender','JobRole','MaritalStatus','OverTime']],drop_first=True).columns.values\n",
    "\n",
    "onehot_cols_dict = dict()\n",
    "\n",
    "for col in onehot_cols:\n",
    "    splitted = col.split('_')\n",
    "    if(splitted[0] not in onehot_cols_dict):\n",
    "        onehot_cols_dict[splitted[0]] = []\n",
    "    onehot_cols_dict[splitted[0]].append(splitted[1])\n",
    "onehot_cols_dict"
   ]
  },
  {
   "cell_type": "code",
   "execution_count": 25,
   "metadata": {},
   "outputs": [
    {
     "data": {
      "text/plain": [
       "{'Department': {'Human Resources'},\n",
       " 'EducationField': {'Human Resources'},\n",
       " 'Gender': {'Female'},\n",
       " 'JobRole': {'Healthcare Representative'},\n",
       " 'MaritalStatus': {'Divorced'},\n",
       " 'OverTime': {'No'}}"
      ]
     },
     "execution_count": 25,
     "metadata": {},
     "output_type": "execute_result"
    }
   ],
   "source": [
    "onehot_dropped_cols = dict()\n",
    "\n",
    "for col in ['Department','EducationField','Gender','JobRole','MaritalStatus','OverTime']:\n",
    "    onehot_dropped_cols[col] = set(df[col].unique())-set(onehot_cols_dict[col])\n",
    "    \n",
    "onehot_dropped_cols"
   ]
  },
  {
   "cell_type": "code",
   "execution_count": 26,
   "metadata": {},
   "outputs": [],
   "source": [
    "preprocess_dict['onehot_dropped_col_dict'] = onehot_dropped_cols"
   ]
  },
  {
   "cell_type": "markdown",
   "metadata": {},
   "source": [
    "## Save Preprocessing Dict"
   ]
  },
  {
   "cell_type": "code",
   "execution_count": 28,
   "metadata": {},
   "outputs": [],
   "source": [
    "import pickle\n",
    "pickle.dump(preprocess_dict, open('preprocess_dict', 'wb'))"
   ]
  },
  {
   "cell_type": "markdown",
   "metadata": {},
   "source": [
    "## Example for preprocessing"
   ]
  },
  {
   "cell_type": "code",
   "execution_count": 31,
   "metadata": {},
   "outputs": [],
   "source": [
    "df = pd.read_csv('Ex_Data/Ex.csv')"
   ]
  },
  {
   "cell_type": "code",
   "execution_count": 32,
   "metadata": {},
   "outputs": [],
   "source": [
    "df = df.drop(labels=preprocess_dict['rem_constant_features'],axis=1)"
   ]
  },
  {
   "cell_type": "code",
   "execution_count": 35,
   "metadata": {},
   "outputs": [],
   "source": [
    "df['BusinessTravel'] = df['BusinessTravel'].map(preprocess_dict['BusinessTravel'])"
   ]
  },
  {
   "cell_type": "code",
   "execution_count": 39,
   "metadata": {},
   "outputs": [],
   "source": [
    "df1 = pd.get_dummies(df,columns=preprocess_dict['onehot_encoded_features'])"
   ]
  },
  {
   "cell_type": "code",
   "execution_count": 44,
   "metadata": {},
   "outputs": [
    {
     "data": {
      "text/plain": [
       "['Department_Human Resources',\n",
       " 'EducationField_Human Resources',\n",
       " 'Gender_Female',\n",
       " 'JobRole_Healthcare Representative',\n",
       " 'MaritalStatus_Divorced',\n",
       " 'OverTime_No']"
      ]
     },
     "execution_count": 44,
     "metadata": {},
     "output_type": "execute_result"
    }
   ],
   "source": [
    "cols_to_be_dropped = []\n",
    "for col in preprocess_dict['onehot_encoded_features']:\n",
    "    item = col+'_'+list(preprocess_dict['onehot_dropped_col_dict'][col])[0]\n",
    "    cols_to_be_dropped.append(item)\n",
    "cols_to_be_dropped"
   ]
  },
  {
   "cell_type": "code",
   "execution_count": 48,
   "metadata": {},
   "outputs": [],
   "source": [
    "df1 = df1.drop(labels=cols_to_be_dropped,axis=1)"
   ]
  },
  {
   "cell_type": "code",
   "execution_count": 49,
   "metadata": {},
   "outputs": [
    {
     "data": {
      "text/plain": [
       "(500, 43)"
      ]
     },
     "execution_count": 49,
     "metadata": {},
     "output_type": "execute_result"
    }
   ],
   "source": [
    "df1.shape"
   ]
  }
 ],
 "metadata": {
  "kernelspec": {
   "display_name": "Python 3",
   "language": "python",
   "name": "python3"
  },
  "language_info": {
   "codemirror_mode": {
    "name": "ipython",
    "version": 3
   },
   "file_extension": ".py",
   "mimetype": "text/x-python",
   "name": "python",
   "nbconvert_exporter": "python",
   "pygments_lexer": "ipython3",
   "version": "3.8.3"
  }
 },
 "nbformat": 4,
 "nbformat_minor": 4
}
