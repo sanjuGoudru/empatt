{
 "cells": [
  {
   "cell_type": "code",
   "execution_count": 1,
   "metadata": {},
   "outputs": [],
   "source": [
    "import pandas as pd\n",
    "pd.pandas.set_option('display.max_columns',None)"
   ]
  },
  {
   "cell_type": "markdown",
   "metadata": {},
   "source": [
    "## ML"
   ]
  },
  {
   "cell_type": "code",
   "execution_count": 2,
   "metadata": {},
   "outputs": [],
   "source": [
    "X = pd.read_csv('Data/X_train_enc.csv')\n",
    "y = pd.read_csv('Data/y_train_enc.csv')\n",
    "\n",
    "X_test = pd.read_csv('Data/X_test_enc.csv')\n",
    "y_test = pd.read_csv('Data/y_test_enc.csv')"
   ]
  },
  {
   "cell_type": "code",
   "execution_count": 3,
   "metadata": {},
   "outputs": [
    {
     "data": {
      "text/plain": [
       "((1029, 43), (1029, 1), (441, 43), (441, 1))"
      ]
     },
     "execution_count": 3,
     "metadata": {},
     "output_type": "execute_result"
    }
   ],
   "source": [
    "X.shape,y.shape,X_test.shape,y_test.shape"
   ]
  },
  {
   "cell_type": "code",
   "execution_count": 4,
   "metadata": {},
   "outputs": [],
   "source": [
    "from imblearn.over_sampling import ADASYN"
   ]
  },
  {
   "cell_type": "code",
   "execution_count": 5,
   "metadata": {},
   "outputs": [],
   "source": [
    "from sklearn.ensemble import StackingClassifier, RandomForestClassifier,AdaBoostClassifier, GradientBoostingClassifier\n",
    "from sklearn.linear_model import LogisticRegression\n",
    "from sklearn.svm import SVC\n",
    "from sklearn.naive_bayes import GaussianNB\n",
    "from xgboost import XGBClassifier\n",
    "import lightgbm as lgb\n",
    "from sklearn.tree import DecisionTreeClassifier"
   ]
  },
  {
   "cell_type": "code",
   "execution_count": 6,
   "metadata": {},
   "outputs": [],
   "source": [
    "from sklearn.metrics import confusion_matrix,classification_report,accuracy_score,fbeta_score"
   ]
  },
  {
   "cell_type": "code",
   "execution_count": 8,
   "metadata": {},
   "outputs": [],
   "source": [
    "rfc = RandomForestClassifier(random_state=1)\n",
    "ada = AdaBoostClassifier(random_state=1)\n",
    "gbc = GradientBoostingClassifier(random_state=1)\n",
    "lr = LogisticRegression(random_state=1)\n",
    "svc = SVC(random_state=1)\n",
    "gnb = GaussianNB()\n",
    "xgb = XGBClassifier(random_state=1)\n",
    "dt = DecisionTreeClassifier(random_state=1)"
   ]
  },
  {
   "cell_type": "code",
   "execution_count": 9,
   "metadata": {},
   "outputs": [],
   "source": [
    "estimators = [\n",
    "    ('ada',ada),\n",
    "    \n",
    "    ('gbc',gbc),\n",
    "    ('lr',lr),\n",
    "    ('svc',svc),\n",
    "    \n",
    "    ('gnb',gnb),\n",
    "    \n",
    "    ('xgb',xgb),\n",
    "    \n",
    "    ('dt',dt)\n",
    "]"
   ]
  },
  {
   "cell_type": "code",
   "execution_count": 11,
   "metadata": {},
   "outputs": [],
   "source": [
    "stk_classifier = StackingClassifier(estimators=estimators, \n",
    "                                    final_estimator=RandomForestClassifier(n_estimators=100,random_state=1),\n",
    "                                    passthrough=True,\n",
    "                                    cv=5,\n",
    "                                    n_jobs=-1,\n",
    "                                    verbose=3)"
   ]
  },
  {
   "cell_type": "code",
   "execution_count": 12,
   "metadata": {
    "scrolled": true
   },
   "outputs": [
    {
     "name": "stdout",
     "output_type": "stream",
     "text": [
      "1   --   0.8707482993197279\n",
      "2   --   0.8639455782312925\n",
      "3   --   0.8684807256235828\n",
      "4   --   0.8752834467120182\n",
      "5   --   0.891156462585034\n",
      "6   --   0.8843537414965986\n",
      "7   --   0.8798185941043084\n",
      "8   --   0.8888888888888888\n",
      "9   --   0.8798185941043084\n",
      "10   --   0.8752834467120182\n",
      "11   --   0.8775510204081632\n",
      "12   --   0.8775510204081632\n",
      "13   --   0.8684807256235828\n",
      "14   --   0.8752834467120182\n",
      "15   --   0.8820861678004536\n",
      "16   --   0.8866213151927438\n",
      "17   --   0.8707482993197279\n",
      "18   --   0.891156462585034\n",
      "19   --   0.8775510204081632\n",
      "20   --   0.8775510204081632\n",
      "21   --   0.8707482993197279\n",
      "22   --   0.8775510204081632\n",
      "23   --   0.873015873015873\n",
      "24   --   0.873015873015873\n",
      "25   --   0.8639455782312925\n",
      "26   --   0.8820861678004536\n",
      "27   --   0.8866213151927438\n",
      "28   --   0.8752834467120182\n",
      "29   --   0.8752834467120182\n",
      "30   --   0.8956916099773242\n",
      "31   --   0.8798185941043084\n",
      "32   --   0.8775510204081632\n",
      "33   --   0.8843537414965986\n",
      "34   --   0.873015873015873\n"
     ]
    }
   ],
   "source": [
    "accs = []\n",
    "cms = []\n",
    "for n in range(1,35):\n",
    "    adasyn = ADASYN(n_neighbors=n,random_state=1)\n",
    "    X_m, y_m = adasyn.fit_resample(X, y)\n",
    "    stk_classifier.fit(X_m,y_m['Attrition'])\n",
    "    \n",
    "    y_pred = stk_classifier.predict(X_test)\n",
    "    accs.append(accuracy_score(y_test,y_pred))\n",
    "    cms.append(confusion_matrix(y_test,y_pred))\n",
    "    \n",
    "    print(n,\"  --  \",accuracy_score(y_test,y_pred))"
   ]
  },
  {
   "cell_type": "code",
   "execution_count": null,
   "metadata": {
    "scrolled": true
   },
   "outputs": [],
   "source": [
    "for n in range(1,35):\n",
    "    val = (cms[n-1][1][1]/(cms[n-1][1][0]+cms[n-1][1][1]))*100\n",
    "    print(n,\"   ---   \",val)"
   ]
  },
  {
   "cell_type": "code",
   "execution_count": null,
   "metadata": {},
   "outputs": [],
   "source": [
    "cms[28]"
   ]
  },
  {
   "cell_type": "code",
   "execution_count": 16,
   "metadata": {
    "scrolled": true
   },
   "outputs": [
    {
     "name": "stdout",
     "output_type": "stream",
     "text": [
      "0\n",
      "1\n",
      "2\n",
      "3\n",
      "4\n",
      "5\n",
      "6\n",
      "7\n",
      "8\n",
      "9\n",
      "10\n",
      "11\n",
      "12\n",
      "13\n",
      "14\n",
      "15\n",
      "16\n",
      "17\n",
      "18\n",
      "19\n",
      "20\n",
      "21\n",
      "22\n",
      "23\n",
      "24\n",
      "25\n",
      "26\n",
      "27\n",
      "28\n",
      "29\n",
      "30\n",
      "31\n",
      "32\n",
      "33\n",
      "34\n",
      "35\n",
      "36\n",
      "37\n",
      "38\n",
      "39\n",
      "40\n",
      "41\n",
      "42\n",
      "43\n",
      "44\n",
      "45\n",
      "46\n",
      "47\n",
      "48\n",
      "49\n",
      "50\n",
      "51\n",
      "52\n",
      "53\n",
      "54\n",
      "55\n",
      "56\n",
      "57\n",
      "58\n",
      "59\n",
      "60\n",
      "61\n",
      "62\n",
      "63\n",
      "64\n",
      "65\n",
      "66\n",
      "67\n",
      "68\n",
      "69\n",
      "70\n",
      "71\n",
      "72\n",
      "73\n",
      "74\n",
      "75\n",
      "76\n",
      "77\n",
      "78\n",
      "79\n",
      "80\n",
      "81\n",
      "82\n",
      "83\n",
      "84\n",
      "85\n",
      "86\n",
      "87\n",
      "88\n",
      "89\n",
      "90\n",
      "91\n",
      "92\n",
      "93\n",
      "94\n",
      "95\n",
      "96\n",
      "97\n",
      "98\n",
      "99\n",
      "100\n",
      "101\n",
      "102\n",
      "103\n",
      "104\n",
      "105\n",
      "106\n",
      "107\n",
      "108\n",
      "109\n",
      "110\n",
      "111\n",
      "112\n",
      "113\n",
      "114\n",
      "115\n",
      "116\n",
      "117\n",
      "118\n",
      "119\n",
      "120\n",
      "121\n",
      "122\n",
      "123\n",
      "124\n",
      "125\n",
      "126\n",
      "127\n",
      "128\n",
      "129\n",
      "130\n",
      "131\n",
      "132\n",
      "133\n",
      "134\n",
      "135\n",
      "136\n",
      "137\n",
      "138\n",
      "139\n",
      "140\n",
      "141\n",
      "142\n",
      "143\n",
      "144\n",
      "145\n",
      "146\n",
      "147\n",
      "148\n",
      "149\n",
      "150\n",
      "151\n",
      "152\n",
      "153\n",
      "154\n",
      "155\n",
      "156\n",
      "157\n",
      "158\n",
      "159\n",
      "160\n",
      "161\n",
      "162\n",
      "163\n",
      "164\n",
      "165\n",
      "166\n",
      "167\n",
      "168\n",
      "169\n",
      "170\n",
      "171\n",
      "172\n",
      "173\n",
      "174\n",
      "175\n",
      "176\n",
      "177\n",
      "178\n",
      "179\n",
      "180\n",
      "181\n",
      "182\n",
      "183\n",
      "184\n",
      "185\n",
      "186\n",
      "187\n",
      "188\n",
      "189\n",
      "190\n",
      "191\n",
      "192\n",
      "193\n",
      "194\n",
      "195\n",
      "196\n",
      "197\n",
      "198\n",
      "199\n",
      "200\n",
      "201\n",
      "202\n",
      "203\n"
     ]
    }
   ],
   "source": [
    "perf_dict = dict()\n",
    "i=0\n",
    "for ratio in [0.5,0.6,0.7,0.8,0.9,1]:\n",
    "    arr = []\n",
    "    for n in range(1,35):\n",
    "        print(i)\n",
    "        i = i+1\n",
    "        adasyn = ADASYN(n_neighbors=n,random_state=1,sampling_strategy=ratio)\n",
    "        X_m, y_m = adasyn.fit_resample(X, y)\n",
    "        stk_classifier.fit(X_m,y_m['Attrition'])\n",
    "    \n",
    "        y_pred = stk_classifier.predict(X_test)\n",
    "        acc = accuracy_score(y_test,y_pred)\n",
    "        cm = confusion_matrix(y_test,y_pred)\n",
    "        val = cm[1][1]/(cm[1][0]+cm[1][1])\n",
    "        \n",
    "        item = [acc,val,adasyn]\n",
    "        arr.append(item)\n",
    "    perf_dict[ratio] = arr"
   ]
  },
  {
   "cell_type": "code",
   "execution_count": 17,
   "metadata": {},
   "outputs": [],
   "source": [
    "my_list = []\n",
    "\n",
    "for ratio in [0.5,0.6,0.7,0.8,0.9,1]:\n",
    "    big = perf_dict[ratio][0][1]\n",
    "    item = (ratio,0,perf_dict[ratio][0])\n",
    "    for n in range(1,34):\n",
    "        if big < perf_dict[ratio][n][1]:\n",
    "            big = perf_dict[ratio][n][1]\n",
    "            item = (ratio,n,perf_dict[ratio][n])\n",
    "    my_list.append(item)"
   ]
  },
  {
   "cell_type": "code",
   "execution_count": 18,
   "metadata": {},
   "outputs": [
    {
     "data": {
      "text/plain": [
       "[(0.5,\n",
       "  29,\n",
       "  [0.8775510204081632,\n",
       "   0.5070422535211268,\n",
       "   ADASYN(n_neighbors=30, random_state=1, sampling_strategy=0.5)]),\n",
       " (0.6,\n",
       "  33,\n",
       "  [0.8820861678004536,\n",
       "   0.4788732394366197,\n",
       "   ADASYN(n_neighbors=34, random_state=1, sampling_strategy=0.6)]),\n",
       " (0.7,\n",
       "  20,\n",
       "  [0.891156462585034,\n",
       "   0.5352112676056338,\n",
       "   ADASYN(n_neighbors=21, random_state=1, sampling_strategy=0.7)]),\n",
       " (0.8,\n",
       "  27,\n",
       "  [0.8820861678004536,\n",
       "   0.5070422535211268,\n",
       "   ADASYN(n_neighbors=28, random_state=1, sampling_strategy=0.8)]),\n",
       " (0.9,\n",
       "  24,\n",
       "  [0.8866213151927438,\n",
       "   0.4647887323943662,\n",
       "   ADASYN(n_neighbors=25, random_state=1, sampling_strategy=0.9)]),\n",
       " (1,\n",
       "  8,\n",
       "  [0.8798185941043084,\n",
       "   0.4647887323943662,\n",
       "   ADASYN(n_neighbors=9, random_state=1, sampling_strategy=1)])]"
      ]
     },
     "execution_count": 18,
     "metadata": {},
     "output_type": "execute_result"
    }
   ],
   "source": [
    "my_list"
   ]
  },
  {
   "cell_type": "code",
   "execution_count": null,
   "metadata": {},
   "outputs": [],
   "source": [
    "## sampling_strategy = 0.7, n=20 got the best recall score and accuracy \n",
    "\n",
    "adasyn = ADASYN(n_neighbors=20,random_state=1,sampling_strategy=0.8)\n",
    "X_m, y_m = adasyn.fit_resample(X, y)\n",
    "stk_classifier.fit(X_m,y_m['Attrition'])\n",
    "    \n",
    "y_pred = stk_classifier.predict(X_test)\n",
    "acc = accuracy_score(y_test,y_pred)\n",
    "cm = confusion_matrix(y_test,y_pred)\n",
    "print(acc)\n",
    "print(cm)"
   ]
  },
  {
   "cell_type": "code",
   "execution_count": 23,
   "metadata": {
    "scrolled": true
   },
   "outputs": [
    {
     "data": {
      "text/plain": [
       "(0.7,\n",
       " 20,\n",
       " [0.891156462585034,\n",
       "  0.5352112676056338,\n",
       "  ADASYN(n_neighbors=21, random_state=1, sampling_strategy=0.7)])"
      ]
     },
     "execution_count": 23,
     "metadata": {},
     "output_type": "execute_result"
    }
   ],
   "source": [
    "my_list[2]"
   ]
  },
  {
   "cell_type": "code",
   "execution_count": 25,
   "metadata": {},
   "outputs": [
    {
     "name": "stdout",
     "output_type": "stream",
     "text": [
      "0.891156462585034\n",
      "[[355  15]\n",
      " [ 33  38]]\n"
     ]
    }
   ],
   "source": [
    "adasyn = my_list[2][2][2]\n",
    "X_m, y_m = adasyn.fit_resample(X, y)\n",
    "stk_classifier.fit(X_m,y_m['Attrition'])\n",
    "    \n",
    "y_pred = stk_classifier.predict(X_test)\n",
    "acc = accuracy_score(y_test,y_pred)\n",
    "cm = confusion_matrix(y_test,y_pred)\n",
    "print(acc)\n",
    "print(cm)"
   ]
  },
  {
   "cell_type": "code",
   "execution_count": 26,
   "metadata": {},
   "outputs": [],
   "source": [
    "import pickle"
   ]
  },
  {
   "cell_type": "code",
   "execution_count": 27,
   "metadata": {},
   "outputs": [],
   "source": [
    "pickle.dump(stk_classifier, open('stk_final2', 'wb'))\n",
    "pickle.dump(adasyn, open('adasyn2', 'wb'))"
   ]
  },
  {
   "cell_type": "code",
   "execution_count": null,
   "metadata": {},
   "outputs": [],
   "source": []
  }
 ],
 "metadata": {
  "kernelspec": {
   "display_name": "Python 3",
   "language": "python",
   "name": "python3"
  },
  "language_info": {
   "codemirror_mode": {
    "name": "ipython",
    "version": 3
   },
   "file_extension": ".py",
   "mimetype": "text/x-python",
   "name": "python",
   "nbconvert_exporter": "python",
   "pygments_lexer": "ipython3",
   "version": "3.8.3"
  }
 },
 "nbformat": 4,
 "nbformat_minor": 4
}
