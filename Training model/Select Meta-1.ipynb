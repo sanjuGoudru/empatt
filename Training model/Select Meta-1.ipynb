{
 "cells": [
  {
   "cell_type": "code",
   "execution_count": 1,
   "metadata": {},
   "outputs": [],
   "source": [
    "import numpy as np, pandas as pd, seaborn as sns, matplotlib.pyplot as plt\n",
    "pd.pandas.set_option('display.max_columns',None)"
   ]
  },
  {
   "cell_type": "code",
   "execution_count": 2,
   "metadata": {},
   "outputs": [],
   "source": [
    "from sklearn.ensemble import StackingClassifier, RandomForestClassifier,AdaBoostClassifier, GradientBoostingClassifier\n",
    "from sklearn.linear_model import LogisticRegression\n",
    "from sklearn.svm import SVC\n",
    "from sklearn.naive_bayes import GaussianNB\n",
    "from xgboost import XGBClassifier\n",
    "import lightgbm as lgb\n",
    "from sklearn.tree import DecisionTreeClassifier"
   ]
  },
  {
   "cell_type": "code",
   "execution_count": 3,
   "metadata": {},
   "outputs": [],
   "source": [
    "from sklearn.metrics import confusion_matrix,classification_report,accuracy_score,fbeta_score"
   ]
  },
  {
   "cell_type": "code",
   "execution_count": 4,
   "metadata": {},
   "outputs": [],
   "source": [
    "rfc = RandomForestClassifier()\n",
    "ada = AdaBoostClassifier()\n",
    "gbc = GradientBoostingClassifier()\n",
    "lr = LogisticRegression()\n",
    "svc = SVC()\n",
    "gnb = GaussianNB()\n",
    "xgb = XGBClassifier()\n",
    "dt = DecisionTreeClassifier()"
   ]
  },
  {
   "cell_type": "code",
   "execution_count": 5,
   "metadata": {},
   "outputs": [],
   "source": [
    "X = pd.read_csv('Data/X_train_enc.csv')\n",
    "y = pd.read_csv('Data/y_train_enc.csv')\n",
    "\n",
    "X_test = pd.read_csv('Data/X_test_enc.csv')\n",
    "y_test = pd.read_csv('Data/y_test_enc.csv')"
   ]
  },
  {
   "cell_type": "code",
   "execution_count": 6,
   "metadata": {},
   "outputs": [
    {
     "name": "stdout",
     "output_type": "stream",
     "text": [
      "Shape:  (1685, 43) (1685, 1)\n",
      "\n",
      "\n",
      "Value counts: \n",
      " 0    863\n",
      "1    822\n",
      "Name: Attrition, dtype: int64\n"
     ]
    }
   ],
   "source": [
    "from imblearn.over_sampling import ADASYN\n",
    "X, y = ADASYN().fit_resample(X, y)\n",
    "print(\"Shape: \",X.shape,y.shape)\n",
    "print(\"\\n\\nValue counts: \\n\",y['Attrition'].value_counts())"
   ]
  },
  {
   "cell_type": "markdown",
   "metadata": {},
   "source": [
    "## RandomForest as meta"
   ]
  },
  {
   "cell_type": "code",
   "execution_count": 7,
   "metadata": {},
   "outputs": [],
   "source": [
    "estimators = [\n",
    "    ('ada',ada),\n",
    "    \n",
    "    ('gbc',gbc),\n",
    "    ('lr',lr),\n",
    "    ('svc',svc),\n",
    "    \n",
    "    ('gnb',gnb),\n",
    "    \n",
    "    ('xgb',xgb),\n",
    "    \n",
    "    ('dt',dt)\n",
    "    #('rfc',rfc)\n",
    "]"
   ]
  },
  {
   "cell_type": "code",
   "execution_count": 8,
   "metadata": {},
   "outputs": [],
   "source": [
    "stk_classifier = StackingClassifier(estimators=estimators, \n",
    "                                    final_estimator=RandomForestClassifier(n_estimators=100),\n",
    "                                    passthrough=True,\n",
    "                                    cv=5,\n",
    "                                    n_jobs=-1,\n",
    "                                    verbose=3)"
   ]
  },
  {
   "cell_type": "code",
   "execution_count": 17,
   "metadata": {},
   "outputs": [
    {
     "name": "stdout",
     "output_type": "stream",
     "text": [
      "Accuracy: 0.8798185941043084\n",
      "[[359  11]\n",
      " [ 42  29]]\n",
      "              precision    recall  f1-score   support\n",
      "\n",
      "           0       0.90      0.97      0.93       370\n",
      "           1       0.72      0.41      0.52        71\n",
      "\n",
      "    accuracy                           0.88       441\n",
      "   macro avg       0.81      0.69      0.73       441\n",
      "weighted avg       0.87      0.88      0.87       441\n",
      "\n"
     ]
    }
   ],
   "source": [
    "stk_classifier.fit(X,y['Attrition'])\n",
    "y_pred = stk_classifier.predict(X_test)\n",
    "print('Accuracy:',accuracy_score(y_test,y_pred))\n",
    "print(confusion_matrix(y_test,y_pred))\n",
    "print(classification_report(y_test,y_pred))"
   ]
  },
  {
   "cell_type": "markdown",
   "metadata": {},
   "source": [
    "## Adaboost as meta"
   ]
  },
  {
   "cell_type": "code",
   "execution_count": 18,
   "metadata": {},
   "outputs": [],
   "source": [
    "estimators = [\n",
    "    #('ada',ada),\n",
    "    \n",
    "    ('gbc',gbc),\n",
    "    ('lr',lr),\n",
    "    ('svc',svc),\n",
    "    \n",
    "    ('gnb',gnb),\n",
    "    \n",
    "    ('xgb',xgb),\n",
    "    \n",
    "    ('dt',dt),\n",
    "    ('rfc',rfc)\n",
    "]"
   ]
  },
  {
   "cell_type": "code",
   "execution_count": 19,
   "metadata": {},
   "outputs": [],
   "source": [
    "stk_classifier = StackingClassifier(estimators=estimators, \n",
    "                                    final_estimator=AdaBoostClassifier(),\n",
    "                                    passthrough=True,\n",
    "                                    cv=5,\n",
    "                                    n_jobs=-1,\n",
    "                                    verbose=3)"
   ]
  },
  {
   "cell_type": "code",
   "execution_count": 20,
   "metadata": {},
   "outputs": [
    {
     "name": "stdout",
     "output_type": "stream",
     "text": [
      "Accuracy: 0.8662131519274376\n",
      "[[355  15]\n",
      " [ 44  27]]\n",
      "              precision    recall  f1-score   support\n",
      "\n",
      "           0       0.89      0.96      0.92       370\n",
      "           1       0.64      0.38      0.48        71\n",
      "\n",
      "    accuracy                           0.87       441\n",
      "   macro avg       0.77      0.67      0.70       441\n",
      "weighted avg       0.85      0.87      0.85       441\n",
      "\n"
     ]
    }
   ],
   "source": [
    "stk_classifier.fit(X,y['Attrition'])\n",
    "y_pred = stk_classifier.predict(X_test)\n",
    "print('Accuracy:',accuracy_score(y_test,y_pred))\n",
    "print(confusion_matrix(y_test,y_pred))\n",
    "print(classification_report(y_test,y_pred))"
   ]
  },
  {
   "cell_type": "markdown",
   "metadata": {},
   "source": [
    "## Gradient Boost as meta"
   ]
  },
  {
   "cell_type": "code",
   "execution_count": 21,
   "metadata": {},
   "outputs": [],
   "source": [
    "estimators = [\n",
    "    ('ada',ada),\n",
    "    \n",
    "    #('gbc',gbc),\n",
    "    ('lr',lr),\n",
    "    ('svc',svc),\n",
    "    \n",
    "    ('gnb',gnb),\n",
    "    \n",
    "    ('xgb',xgb),\n",
    "    \n",
    "    ('dt',dt),\n",
    "    ('rfc',rfc)\n",
    "]"
   ]
  },
  {
   "cell_type": "code",
   "execution_count": 22,
   "metadata": {},
   "outputs": [],
   "source": [
    "stk_classifier = StackingClassifier(estimators=estimators, \n",
    "                                    final_estimator=GradientBoostingClassifier(),\n",
    "                                    passthrough=True,\n",
    "                                    cv=5,\n",
    "                                    n_jobs=-1,\n",
    "                                    verbose=3)"
   ]
  },
  {
   "cell_type": "code",
   "execution_count": 31,
   "metadata": {},
   "outputs": [
    {
     "name": "stdout",
     "output_type": "stream",
     "text": [
      "Accuracy: 0.8616780045351474\n",
      "[[358  12]\n",
      " [ 49  22]]\n",
      "              precision    recall  f1-score   support\n",
      "\n",
      "           0       0.88      0.97      0.92       370\n",
      "           1       0.65      0.31      0.42        71\n",
      "\n",
      "    accuracy                           0.86       441\n",
      "   macro avg       0.76      0.64      0.67       441\n",
      "weighted avg       0.84      0.86      0.84       441\n",
      "\n"
     ]
    }
   ],
   "source": [
    "stk_classifier.fit(X,y['Attrition'])\n",
    "y_pred = stk_classifier.predict(X_test)\n",
    "print('Accuracy:',accuracy_score(y_test,y_pred))\n",
    "print(confusion_matrix(y_test,y_pred))\n",
    "print(classification_report(y_test,y_pred))"
   ]
  },
  {
   "cell_type": "markdown",
   "metadata": {},
   "source": [
    "## LR as meta"
   ]
  },
  {
   "cell_type": "code",
   "execution_count": 24,
   "metadata": {},
   "outputs": [],
   "source": [
    "estimators = [\n",
    "    ('ada',ada),\n",
    "    \n",
    "    ('gbc',gbc),\n",
    "    #('lr',lr),\n",
    "    ('svc',svc),\n",
    "    \n",
    "    ('gnb',gnb),\n",
    "    \n",
    "    ('xgb',xgb),\n",
    "    \n",
    "    ('dt',dt),\n",
    "    ('rfc',rfc)\n",
    "]"
   ]
  },
  {
   "cell_type": "code",
   "execution_count": 25,
   "metadata": {},
   "outputs": [],
   "source": [
    "stk_classifier = StackingClassifier(estimators=estimators, \n",
    "                                    final_estimator=LogisticRegression(),\n",
    "                                    passthrough=True,\n",
    "                                    cv=5,\n",
    "                                    n_jobs=-1,\n",
    "                                    verbose=3)"
   ]
  },
  {
   "cell_type": "code",
   "execution_count": 26,
   "metadata": {},
   "outputs": [
    {
     "name": "stdout",
     "output_type": "stream",
     "text": [
      "Accuracy: 0.7165532879818595\n",
      "[[275  95]\n",
      " [ 30  41]]\n",
      "              precision    recall  f1-score   support\n",
      "\n",
      "           0       0.90      0.74      0.81       370\n",
      "           1       0.30      0.58      0.40        71\n",
      "\n",
      "    accuracy                           0.72       441\n",
      "   macro avg       0.60      0.66      0.61       441\n",
      "weighted avg       0.81      0.72      0.75       441\n",
      "\n"
     ]
    },
    {
     "name": "stderr",
     "output_type": "stream",
     "text": [
      "D:\\My_Installed_Soft\\Anacondaa\\lib\\site-packages\\sklearn\\linear_model\\_logistic.py:763: ConvergenceWarning: lbfgs failed to converge (status=1):\n",
      "STOP: TOTAL NO. of ITERATIONS REACHED LIMIT.\n",
      "\n",
      "Increase the number of iterations (max_iter) or scale the data as shown in:\n",
      "    https://scikit-learn.org/stable/modules/preprocessing.html\n",
      "Please also refer to the documentation for alternative solver options:\n",
      "    https://scikit-learn.org/stable/modules/linear_model.html#logistic-regression\n",
      "  n_iter_i = _check_optimize_result(\n"
     ]
    }
   ],
   "source": [
    "stk_classifier.fit(X,y['Attrition'])\n",
    "y_pred = stk_classifier.predict(X_test)\n",
    "print('Accuracy:',accuracy_score(y_test,y_pred))\n",
    "print(confusion_matrix(y_test,y_pred))\n",
    "print(classification_report(y_test,y_pred))"
   ]
  },
  {
   "cell_type": "markdown",
   "metadata": {},
   "source": [
    "## SVC as meta"
   ]
  },
  {
   "cell_type": "code",
   "execution_count": 27,
   "metadata": {},
   "outputs": [
    {
     "name": "stdout",
     "output_type": "stream",
     "text": [
      "Accuracy: 0.5986394557823129\n",
      "[[227 143]\n",
      " [ 34  37]]\n",
      "              precision    recall  f1-score   support\n",
      "\n",
      "           0       0.87      0.61      0.72       370\n",
      "           1       0.21      0.52      0.29        71\n",
      "\n",
      "    accuracy                           0.60       441\n",
      "   macro avg       0.54      0.57      0.51       441\n",
      "weighted avg       0.76      0.60      0.65       441\n",
      "\n"
     ]
    }
   ],
   "source": [
    "estimators = [\n",
    "    ('ada',ada),\n",
    "    \n",
    "    ('gbc',gbc),\n",
    "    ('lr',lr),\n",
    "    #('svc',svc),\n",
    "    \n",
    "    ('gnb',gnb),\n",
    "    \n",
    "    ('xgb',xgb),\n",
    "    \n",
    "    ('dt',dt),\n",
    "    ('rfc',rfc)\n",
    "]\n",
    "\n",
    "\n",
    "stk_classifier = StackingClassifier(estimators=estimators, \n",
    "                                    final_estimator=SVC(),\n",
    "                                    passthrough=True,\n",
    "                                    cv=5,\n",
    "                                    n_jobs=-1,\n",
    "                                    verbose=3)\n",
    "\n",
    "\n",
    "stk_classifier.fit(X,y['Attrition'])\n",
    "y_pred = stk_classifier.predict(X_test)\n",
    "print('Accuracy:',accuracy_score(y_test,y_pred))\n",
    "print(confusion_matrix(y_test,y_pred))\n",
    "print(classification_report(y_test,y_pred))"
   ]
  },
  {
   "cell_type": "markdown",
   "metadata": {},
   "source": [
    "## Gaussian NB as meta"
   ]
  },
  {
   "cell_type": "code",
   "execution_count": 28,
   "metadata": {},
   "outputs": [
    {
     "name": "stdout",
     "output_type": "stream",
     "text": [
      "Accuracy: 0.8344671201814059\n",
      "[[330  40]\n",
      " [ 33  38]]\n",
      "              precision    recall  f1-score   support\n",
      "\n",
      "           0       0.91      0.89      0.90       370\n",
      "           1       0.49      0.54      0.51        71\n",
      "\n",
      "    accuracy                           0.83       441\n",
      "   macro avg       0.70      0.71      0.71       441\n",
      "weighted avg       0.84      0.83      0.84       441\n",
      "\n"
     ]
    }
   ],
   "source": [
    "estimators = [\n",
    "    ('ada',ada),\n",
    "    \n",
    "    ('gbc',gbc),\n",
    "    ('lr',lr),\n",
    "    ('svc',svc),\n",
    "    \n",
    "    #('gnb',gnb),\n",
    "    \n",
    "    ('xgb',xgb),\n",
    "    \n",
    "    ('dt',dt),\n",
    "    ('rfc',rfc)\n",
    "]\n",
    "\n",
    "\n",
    "stk_classifier = StackingClassifier(estimators=estimators, \n",
    "                                    final_estimator=GaussianNB(),\n",
    "                                    passthrough=True,\n",
    "                                    cv=5,\n",
    "                                    n_jobs=-1,\n",
    "                                    verbose=3)\n",
    "\n",
    "\n",
    "stk_classifier.fit(X,y['Attrition'])\n",
    "y_pred = stk_classifier.predict(X_test)\n",
    "print('Accuracy:',accuracy_score(y_test,y_pred))\n",
    "print(confusion_matrix(y_test,y_pred))\n",
    "print(classification_report(y_test,y_pred))"
   ]
  },
  {
   "cell_type": "markdown",
   "metadata": {},
   "source": [
    "## XGboost as meta"
   ]
  },
  {
   "cell_type": "code",
   "execution_count": 29,
   "metadata": {},
   "outputs": [
    {
     "name": "stderr",
     "output_type": "stream",
     "text": [
      "D:\\My_Installed_Soft\\Anacondaa\\lib\\site-packages\\xgboost\\sklearn.py:888: UserWarning: The use of label encoder in XGBClassifier is deprecated and will be removed in a future release. To remove this warning, do the following: 1) Pass option use_label_encoder=False when constructing XGBClassifier object; and 2) Encode your labels (y) as integers starting with 0, i.e. 0, 1, 2, ..., [num_class - 1].\n",
      "  warnings.warn(label_encoder_deprecation_msg, UserWarning)\n"
     ]
    },
    {
     "name": "stdout",
     "output_type": "stream",
     "text": [
      "[13:16:21] WARNING: C:/Users/Administrator/workspace/xgboost-win64_release_1.3.0/src/learner.cc:1061: Starting in XGBoost 1.3.0, the default evaluation metric used with the objective 'binary:logistic' was changed from 'error' to 'logloss'. Explicitly set eval_metric if you'd like to restore the old behavior.\n",
      "Accuracy: 0.8594104308390023\n",
      "[[362   8]\n",
      " [ 54  17]]\n",
      "              precision    recall  f1-score   support\n",
      "\n",
      "           0       0.87      0.98      0.92       370\n",
      "           1       0.68      0.24      0.35        71\n",
      "\n",
      "    accuracy                           0.86       441\n",
      "   macro avg       0.78      0.61      0.64       441\n",
      "weighted avg       0.84      0.86      0.83       441\n",
      "\n"
     ]
    }
   ],
   "source": [
    "estimators = [\n",
    "    ('ada',ada),\n",
    "    \n",
    "    ('gbc',gbc),\n",
    "    ('lr',lr),\n",
    "    ('svc',svc),\n",
    "    \n",
    "    ('gnb',gnb),\n",
    "    \n",
    "    #('xgb',xgb),\n",
    "    \n",
    "    ('dt',dt),\n",
    "    ('rfc',rfc)\n",
    "]\n",
    "\n",
    "\n",
    "stk_classifier = StackingClassifier(estimators=estimators, \n",
    "                                    final_estimator=XGBClassifier(),\n",
    "                                    passthrough=True,\n",
    "                                    cv=5,\n",
    "                                    n_jobs=-1,\n",
    "                                    verbose=3)\n",
    "\n",
    "\n",
    "stk_classifier.fit(X,y['Attrition'])\n",
    "y_pred = stk_classifier.predict(X_test)\n",
    "print('Accuracy:',accuracy_score(y_test,y_pred))\n",
    "print(confusion_matrix(y_test,y_pred))\n",
    "print(classification_report(y_test,y_pred))"
   ]
  },
  {
   "cell_type": "markdown",
   "metadata": {},
   "source": [
    "## DT as meta"
   ]
  },
  {
   "cell_type": "code",
   "execution_count": 30,
   "metadata": {},
   "outputs": [
    {
     "name": "stdout",
     "output_type": "stream",
     "text": [
      "Accuracy: 0.8662131519274376\n",
      "[[358  12]\n",
      " [ 47  24]]\n",
      "              precision    recall  f1-score   support\n",
      "\n",
      "           0       0.88      0.97      0.92       370\n",
      "           1       0.67      0.34      0.45        71\n",
      "\n",
      "    accuracy                           0.87       441\n",
      "   macro avg       0.78      0.65      0.69       441\n",
      "weighted avg       0.85      0.87      0.85       441\n",
      "\n"
     ]
    }
   ],
   "source": [
    "estimators = [\n",
    "    ('ada',ada),\n",
    "    \n",
    "    ('gbc',gbc),\n",
    "    ('lr',lr),\n",
    "    ('svc',svc),\n",
    "    \n",
    "    ('gnb',gnb),\n",
    "    \n",
    "    ('xgb',xgb),\n",
    "    \n",
    "    #('dt',dt),\n",
    "    ('rfc',rfc)\n",
    "]\n",
    "\n",
    "\n",
    "stk_classifier = StackingClassifier(estimators=estimators, \n",
    "                                    final_estimator=DecisionTreeClassifier(max_depth=4),\n",
    "                                    passthrough=True,\n",
    "                                    cv=5,\n",
    "                                    n_jobs=-1,\n",
    "                                    verbose=3)\n",
    "\n",
    "\n",
    "stk_classifier.fit(X,y['Attrition'])\n",
    "y_pred = stk_classifier.predict(X_test)\n",
    "print('Accuracy:',accuracy_score(y_test,y_pred))\n",
    "print(confusion_matrix(y_test,y_pred))\n",
    "print(classification_report(y_test,y_pred))"
   ]
  },
  {
   "cell_type": "code",
   "execution_count": null,
   "metadata": {},
   "outputs": [],
   "source": []
  }
 ],
 "metadata": {
  "kernelspec": {
   "display_name": "Python 3",
   "language": "python",
   "name": "python3"
  },
  "language_info": {
   "codemirror_mode": {
    "name": "ipython",
    "version": 3
   },
   "file_extension": ".py",
   "mimetype": "text/x-python",
   "name": "python",
   "nbconvert_exporter": "python",
   "pygments_lexer": "ipython3",
   "version": "3.8.3"
  }
 },
 "nbformat": 4,
 "nbformat_minor": 4
}
