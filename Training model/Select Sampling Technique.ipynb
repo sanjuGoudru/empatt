{
 "cells": [
  {
   "cell_type": "code",
   "execution_count": 1,
   "metadata": {},
   "outputs": [],
   "source": [
    "import numpy as np, pandas as pd, seaborn as sns, matplotlib.pyplot as plt\n",
    "pd.pandas.set_option('display.max_columns',None)"
   ]
  },
  {
   "cell_type": "markdown",
   "metadata": {},
   "source": [
    "## Borderline smote (Oversampling)"
   ]
  },
  {
   "cell_type": "code",
   "execution_count": 2,
   "metadata": {},
   "outputs": [],
   "source": [
    "X = pd.read_csv('Data/X_train_enc.csv')\n",
    "y = pd.read_csv('Data/y_train_enc.csv')\n",
    "\n",
    "X_test = pd.read_csv('Data/X_test_enc.csv')\n",
    "y_test = pd.read_csv('Data/y_test_enc.csv')"
   ]
  },
  {
   "cell_type": "code",
   "execution_count": 3,
   "metadata": {},
   "outputs": [
    {
     "name": "stdout",
     "output_type": "stream",
     "text": [
      "\n",
      "\n",
      "Value counts: \n",
      " 0    863\n",
      "1    166\n",
      "Name: Attrition, dtype: int64\n"
     ]
    }
   ],
   "source": [
    "print(\"\\n\\nValue counts: \\n\",y['Attrition'].value_counts())"
   ]
  },
  {
   "cell_type": "code",
   "execution_count": 27,
   "metadata": {},
   "outputs": [
    {
     "data": {
      "text/plain": [
       "((1029, 43), (1029, 1), (441, 43), (441, 1))"
      ]
     },
     "execution_count": 27,
     "metadata": {},
     "output_type": "execute_result"
    }
   ],
   "source": [
    "X.shape,y.shape,X_test.shape,y_test.shape"
   ]
  },
  {
   "cell_type": "code",
   "execution_count": 28,
   "metadata": {},
   "outputs": [
    {
     "name": "stdout",
     "output_type": "stream",
     "text": [
      "0.7.0\n"
     ]
    }
   ],
   "source": [
    "import imblearn\n",
    "print(imblearn.__version__)"
   ]
  },
  {
   "cell_type": "code",
   "execution_count": 30,
   "metadata": {},
   "outputs": [
    {
     "name": "stdout",
     "output_type": "stream",
     "text": [
      "Shape:  (1726, 43) (1726, 1)\n",
      "\n",
      "\n",
      "Value counts: \n",
      " 1    863\n",
      "0    863\n",
      "Name: Attrition, dtype: int64\n"
     ]
    }
   ],
   "source": [
    "from imblearn.over_sampling import BorderlineSMOTE\n",
    "X, y = BorderlineSMOTE().fit_resample(X, y)\n",
    "print(\"Shape: \",X.shape,y.shape)\n",
    "print(\"\\n\\nValue counts: \\n\",y['Attrition'].value_counts())"
   ]
  },
  {
   "cell_type": "code",
   "execution_count": 31,
   "metadata": {},
   "outputs": [],
   "source": [
    "from sklearn.ensemble import StackingClassifier, RandomForestClassifier,AdaBoostClassifier, GradientBoostingClassifier\n",
    "from sklearn.linear_model import LogisticRegression\n",
    "from sklearn.svm import SVC\n",
    "from sklearn.naive_bayes import GaussianNB\n",
    "from xgboost import XGBClassifier\n",
    "import lightgbm as lgb\n",
    "from sklearn.tree import DecisionTreeClassifier"
   ]
  },
  {
   "cell_type": "code",
   "execution_count": 32,
   "metadata": {},
   "outputs": [],
   "source": [
    "rfc = RandomForestClassifier()\n",
    "ada = AdaBoostClassifier()\n",
    "gbc = GradientBoostingClassifier()\n",
    "lr = LogisticRegression()\n",
    "svc = SVC()\n",
    "gnb = GaussianNB()\n",
    "xgb = XGBClassifier()\n",
    "dt = DecisionTreeClassifier()"
   ]
  },
  {
   "cell_type": "code",
   "execution_count": 33,
   "metadata": {},
   "outputs": [],
   "source": [
    "estimators = [\n",
    "    ('ada',ada),\n",
    "    \n",
    "    ('gbc',gbc),\n",
    "    ('lr',lr),\n",
    "    ('svc',svc),\n",
    "    \n",
    "    ('gnb',gnb),\n",
    "    \n",
    "    ('xgb',xgb),\n",
    "    \n",
    "    ('dt',dt)\n",
    "]"
   ]
  },
  {
   "cell_type": "code",
   "execution_count": 34,
   "metadata": {},
   "outputs": [],
   "source": [
    "stk_classifier = StackingClassifier(estimators=estimators, \n",
    "                                    final_estimator=RandomForestClassifier(n_estimators=100),\n",
    "                                    passthrough=True,\n",
    "                                    cv=5,\n",
    "                                    n_jobs=-1,\n",
    "                                    verbose=3)"
   ]
  },
  {
   "cell_type": "code",
   "execution_count": 35,
   "metadata": {},
   "outputs": [
    {
     "data": {
      "text/plain": [
       "StackingClassifier(cv=5,\n",
       "                   estimators=[('ada', AdaBoostClassifier()),\n",
       "                               ('gbc', GradientBoostingClassifier()),\n",
       "                               ('lr', LogisticRegression()), ('svc', SVC()),\n",
       "                               ('gnb', GaussianNB()),\n",
       "                               ('xgb',\n",
       "                                XGBClassifier(base_score=None, booster=None,\n",
       "                                              colsample_bylevel=None,\n",
       "                                              colsample_bynode=None,\n",
       "                                              colsample_bytree=None, gamma=None,\n",
       "                                              gpu_id=None,\n",
       "                                              importance_type='gain',\n",
       "                                              interaction_constraint...\n",
       "                                              min_child_weight=None,\n",
       "                                              missing=nan,\n",
       "                                              monotone_constraints=None,\n",
       "                                              n_estimators=100, n_jobs=None,\n",
       "                                              num_parallel_tree=None,\n",
       "                                              random_state=None, reg_alpha=None,\n",
       "                                              reg_lambda=None,\n",
       "                                              scale_pos_weight=None,\n",
       "                                              subsample=None, tree_method=None,\n",
       "                                              validate_parameters=None,\n",
       "                                              verbosity=None)),\n",
       "                               ('dt', DecisionTreeClassifier())],\n",
       "                   final_estimator=RandomForestClassifier(), n_jobs=-1,\n",
       "                   passthrough=True, verbose=3)"
      ]
     },
     "execution_count": 35,
     "metadata": {},
     "output_type": "execute_result"
    }
   ],
   "source": [
    "stk_classifier.fit(X,y['Attrition'])"
   ]
  },
  {
   "cell_type": "code",
   "execution_count": 36,
   "metadata": {},
   "outputs": [],
   "source": [
    "from sklearn.metrics import confusion_matrix,classification_report,accuracy_score,fbeta_score"
   ]
  },
  {
   "cell_type": "code",
   "execution_count": 37,
   "metadata": {},
   "outputs": [
    {
     "name": "stdout",
     "output_type": "stream",
     "text": [
      "Accuracy: 0.8707482993197279\n",
      "[[360  10]\n",
      " [ 47  24]]\n",
      "              precision    recall  f1-score   support\n",
      "\n",
      "           0       0.88      0.97      0.93       370\n",
      "           1       0.71      0.34      0.46        71\n",
      "\n",
      "    accuracy                           0.87       441\n",
      "   macro avg       0.80      0.66      0.69       441\n",
      "weighted avg       0.86      0.87      0.85       441\n",
      "\n"
     ]
    }
   ],
   "source": [
    "y_pred = stk_classifier.predict(X_test)\n",
    "print('Accuracy:',accuracy_score(y_test,y_pred))\n",
    "print(confusion_matrix(y_test,y_pred))\n",
    "print(classification_report(y_test,y_pred))"
   ]
  },
  {
   "cell_type": "markdown",
   "metadata": {},
   "source": [
    "## Smote (Oversampling)"
   ]
  },
  {
   "cell_type": "code",
   "execution_count": 38,
   "metadata": {},
   "outputs": [],
   "source": [
    "X = pd.read_csv('Data/X_train_enc.csv')\n",
    "y = pd.read_csv('Data/y_train_enc.csv')"
   ]
  },
  {
   "cell_type": "code",
   "execution_count": 39,
   "metadata": {},
   "outputs": [
    {
     "data": {
      "text/plain": [
       "((1029, 43), (1029, 1), (441, 43), (441, 1))"
      ]
     },
     "execution_count": 39,
     "metadata": {},
     "output_type": "execute_result"
    }
   ],
   "source": [
    "X.shape,y.shape,X_test.shape,y_test.shape"
   ]
  },
  {
   "cell_type": "code",
   "execution_count": 40,
   "metadata": {},
   "outputs": [
    {
     "name": "stdout",
     "output_type": "stream",
     "text": [
      "Shape:  (1726, 43) (1726, 1)\n",
      "\n",
      "\n",
      "Value counts: \n",
      " 1    863\n",
      "0    863\n",
      "Name: Attrition, dtype: int64\n"
     ]
    }
   ],
   "source": [
    "from imblearn.over_sampling import SMOTE\n",
    "X, y = SMOTE().fit_resample(X, y)\n",
    "print(\"Shape: \",X.shape,y.shape)\n",
    "print(\"\\n\\nValue counts: \\n\",y['Attrition'].value_counts())"
   ]
  },
  {
   "cell_type": "code",
   "execution_count": 41,
   "metadata": {},
   "outputs": [
    {
     "data": {
      "text/plain": [
       "StackingClassifier(cv=5,\n",
       "                   estimators=[('ada', AdaBoostClassifier()),\n",
       "                               ('gbc', GradientBoostingClassifier()),\n",
       "                               ('lr', LogisticRegression()), ('svc', SVC()),\n",
       "                               ('gnb', GaussianNB()),\n",
       "                               ('xgb',\n",
       "                                XGBClassifier(base_score=None, booster=None,\n",
       "                                              colsample_bylevel=None,\n",
       "                                              colsample_bynode=None,\n",
       "                                              colsample_bytree=None, gamma=None,\n",
       "                                              gpu_id=None,\n",
       "                                              importance_type='gain',\n",
       "                                              interaction_constraint...\n",
       "                                              min_child_weight=None,\n",
       "                                              missing=nan,\n",
       "                                              monotone_constraints=None,\n",
       "                                              n_estimators=100, n_jobs=None,\n",
       "                                              num_parallel_tree=None,\n",
       "                                              random_state=None, reg_alpha=None,\n",
       "                                              reg_lambda=None,\n",
       "                                              scale_pos_weight=None,\n",
       "                                              subsample=None, tree_method=None,\n",
       "                                              validate_parameters=None,\n",
       "                                              verbosity=None)),\n",
       "                               ('dt', DecisionTreeClassifier())],\n",
       "                   final_estimator=RandomForestClassifier(), n_jobs=-1,\n",
       "                   passthrough=True, verbose=3)"
      ]
     },
     "execution_count": 41,
     "metadata": {},
     "output_type": "execute_result"
    }
   ],
   "source": [
    "stk_classifier.fit(X,y['Attrition'])"
   ]
  },
  {
   "cell_type": "code",
   "execution_count": 42,
   "metadata": {},
   "outputs": [
    {
     "name": "stdout",
     "output_type": "stream",
     "text": [
      "Accuracy: 0.891156462585034\n",
      "[[363   7]\n",
      " [ 41  30]]\n",
      "              precision    recall  f1-score   support\n",
      "\n",
      "           0       0.90      0.98      0.94       370\n",
      "           1       0.81      0.42      0.56        71\n",
      "\n",
      "    accuracy                           0.89       441\n",
      "   macro avg       0.85      0.70      0.75       441\n",
      "weighted avg       0.88      0.89      0.88       441\n",
      "\n"
     ]
    }
   ],
   "source": [
    "y_pred = stk_classifier.predict(X_test)\n",
    "print('Accuracy:',accuracy_score(y_test,y_pred))\n",
    "print(confusion_matrix(y_test,y_pred))\n",
    "print(classification_report(y_test,y_pred))"
   ]
  },
  {
   "cell_type": "markdown",
   "metadata": {},
   "source": [
    "## ADASYN"
   ]
  },
  {
   "cell_type": "code",
   "execution_count": 43,
   "metadata": {},
   "outputs": [],
   "source": [
    "X = pd.read_csv('Data/X_train_enc.csv')\n",
    "y = pd.read_csv('Data/y_train_enc.csv')"
   ]
  },
  {
   "cell_type": "code",
   "execution_count": 44,
   "metadata": {},
   "outputs": [
    {
     "data": {
      "text/plain": [
       "((1029, 43), (1029, 1), (441, 43), (441, 1))"
      ]
     },
     "execution_count": 44,
     "metadata": {},
     "output_type": "execute_result"
    }
   ],
   "source": [
    "X.shape,y.shape,X_test.shape,y_test.shape"
   ]
  },
  {
   "cell_type": "code",
   "execution_count": 45,
   "metadata": {},
   "outputs": [
    {
     "name": "stdout",
     "output_type": "stream",
     "text": [
      "Shape:  (1685, 43) (1685, 1)\n",
      "\n",
      "\n",
      "Value counts: \n",
      " 0    863\n",
      "1    822\n",
      "Name: Attrition, dtype: int64\n"
     ]
    }
   ],
   "source": [
    "from imblearn.over_sampling import ADASYN\n",
    "X, y = ADASYN().fit_resample(X, y)\n",
    "print(\"Shape: \",X.shape,y.shape)\n",
    "print(\"\\n\\nValue counts: \\n\",y['Attrition'].value_counts())"
   ]
  },
  {
   "cell_type": "code",
   "execution_count": 46,
   "metadata": {},
   "outputs": [
    {
     "data": {
      "text/plain": [
       "StackingClassifier(cv=5,\n",
       "                   estimators=[('ada', AdaBoostClassifier()),\n",
       "                               ('gbc', GradientBoostingClassifier()),\n",
       "                               ('lr', LogisticRegression()), ('svc', SVC()),\n",
       "                               ('gnb', GaussianNB()),\n",
       "                               ('xgb',\n",
       "                                XGBClassifier(base_score=None, booster=None,\n",
       "                                              colsample_bylevel=None,\n",
       "                                              colsample_bynode=None,\n",
       "                                              colsample_bytree=None, gamma=None,\n",
       "                                              gpu_id=None,\n",
       "                                              importance_type='gain',\n",
       "                                              interaction_constraint...\n",
       "                                              min_child_weight=None,\n",
       "                                              missing=nan,\n",
       "                                              monotone_constraints=None,\n",
       "                                              n_estimators=100, n_jobs=None,\n",
       "                                              num_parallel_tree=None,\n",
       "                                              random_state=None, reg_alpha=None,\n",
       "                                              reg_lambda=None,\n",
       "                                              scale_pos_weight=None,\n",
       "                                              subsample=None, tree_method=None,\n",
       "                                              validate_parameters=None,\n",
       "                                              verbosity=None)),\n",
       "                               ('dt', DecisionTreeClassifier())],\n",
       "                   final_estimator=RandomForestClassifier(), n_jobs=-1,\n",
       "                   passthrough=True, verbose=3)"
      ]
     },
     "execution_count": 46,
     "metadata": {},
     "output_type": "execute_result"
    }
   ],
   "source": [
    "stk_classifier.fit(X,y['Attrition'])"
   ]
  },
  {
   "cell_type": "code",
   "execution_count": 47,
   "metadata": {},
   "outputs": [
    {
     "name": "stdout",
     "output_type": "stream",
     "text": [
      "Accuracy: 0.8888888888888888\n",
      "[[360  10]\n",
      " [ 39  32]]\n",
      "              precision    recall  f1-score   support\n",
      "\n",
      "           0       0.90      0.97      0.94       370\n",
      "           1       0.76      0.45      0.57        71\n",
      "\n",
      "    accuracy                           0.89       441\n",
      "   macro avg       0.83      0.71      0.75       441\n",
      "weighted avg       0.88      0.89      0.88       441\n",
      "\n"
     ]
    }
   ],
   "source": [
    "y_pred = stk_classifier.predict(X_test)\n",
    "print('Accuracy:',accuracy_score(y_test,y_pred))\n",
    "print(confusion_matrix(y_test,y_pred))\n",
    "print(classification_report(y_test,y_pred))"
   ]
  },
  {
   "cell_type": "markdown",
   "metadata": {},
   "source": [
    "## No sampling"
   ]
  },
  {
   "cell_type": "code",
   "execution_count": 49,
   "metadata": {},
   "outputs": [
    {
     "data": {
      "text/plain": [
       "((1029, 43), (1029, 1), (441, 43), (441, 1))"
      ]
     },
     "execution_count": 49,
     "metadata": {},
     "output_type": "execute_result"
    }
   ],
   "source": [
    "X = pd.read_csv('Data/X_train_enc.csv')\n",
    "y = pd.read_csv('Data/y_train_enc.csv')\n",
    "X.shape,y.shape,X_test.shape,y_test.shape"
   ]
  },
  {
   "cell_type": "code",
   "execution_count": 50,
   "metadata": {},
   "outputs": [
    {
     "name": "stdout",
     "output_type": "stream",
     "text": [
      "Accuracy: 0.8820861678004536\n",
      "[[357  13]\n",
      " [ 39  32]]\n",
      "              precision    recall  f1-score   support\n",
      "\n",
      "           0       0.90      0.96      0.93       370\n",
      "           1       0.71      0.45      0.55        71\n",
      "\n",
      "    accuracy                           0.88       441\n",
      "   macro avg       0.81      0.71      0.74       441\n",
      "weighted avg       0.87      0.88      0.87       441\n",
      "\n"
     ]
    }
   ],
   "source": [
    "stk_classifier.fit(X,y['Attrition'])\n",
    "y_pred = stk_classifier.predict(X_test)\n",
    "print('Accuracy:',accuracy_score(y_test,y_pred))\n",
    "print(confusion_matrix(y_test,y_pred))\n",
    "print(classification_report(y_test,y_pred))"
   ]
  },
  {
   "cell_type": "markdown",
   "metadata": {},
   "source": [
    "## Smotetomek (Combination of over and under sampling)"
   ]
  },
  {
   "cell_type": "code",
   "execution_count": 51,
   "metadata": {},
   "outputs": [
    {
     "data": {
      "text/plain": [
       "((1029, 43), (1029, 1), (441, 43), (441, 1))"
      ]
     },
     "execution_count": 51,
     "metadata": {},
     "output_type": "execute_result"
    }
   ],
   "source": [
    "X = pd.read_csv('Data/X_train_enc.csv')\n",
    "y = pd.read_csv('Data/y_train_enc.csv')\n",
    "X.shape,y.shape,X_test.shape,y_test.shape"
   ]
  },
  {
   "cell_type": "code",
   "execution_count": 52,
   "metadata": {},
   "outputs": [
    {
     "name": "stdout",
     "output_type": "stream",
     "text": [
      "Shape:  (1616, 43) (1616, 1)\n",
      "\n",
      "\n",
      "Value counts: \n",
      " 1    808\n",
      "0    808\n",
      "Name: Attrition, dtype: int64\n"
     ]
    }
   ],
   "source": [
    "from imblearn.combine import SMOTETomek\n",
    "X, y = SMOTETomek().fit_resample(X, y)\n",
    "print(\"Shape: \",X.shape,y.shape)\n",
    "print(\"\\n\\nValue counts: \\n\",y['Attrition'].value_counts())"
   ]
  },
  {
   "cell_type": "code",
   "execution_count": 53,
   "metadata": {},
   "outputs": [
    {
     "name": "stdout",
     "output_type": "stream",
     "text": [
      "Accuracy: 0.8798185941043084\n",
      "[[361   9]\n",
      " [ 44  27]]\n",
      "              precision    recall  f1-score   support\n",
      "\n",
      "           0       0.89      0.98      0.93       370\n",
      "           1       0.75      0.38      0.50        71\n",
      "\n",
      "    accuracy                           0.88       441\n",
      "   macro avg       0.82      0.68      0.72       441\n",
      "weighted avg       0.87      0.88      0.86       441\n",
      "\n"
     ]
    }
   ],
   "source": [
    "stk_classifier.fit(X,y['Attrition'])\n",
    "y_pred = stk_classifier.predict(X_test)\n",
    "print('Accuracy:',accuracy_score(y_test,y_pred))\n",
    "print(confusion_matrix(y_test,y_pred))\n",
    "print(classification_report(y_test,y_pred))"
   ]
  },
  {
   "cell_type": "markdown",
   "metadata": {},
   "source": [
    "## Smoteenn (Combination of over and under sampling)"
   ]
  },
  {
   "cell_type": "code",
   "execution_count": 54,
   "metadata": {},
   "outputs": [
    {
     "data": {
      "text/plain": [
       "((1029, 43), (1029, 1), (441, 43), (441, 1))"
      ]
     },
     "execution_count": 54,
     "metadata": {},
     "output_type": "execute_result"
    }
   ],
   "source": [
    "X = pd.read_csv('Data/X_train_enc.csv')\n",
    "y = pd.read_csv('Data/y_train_enc.csv')\n",
    "X.shape,y.shape,X_test.shape,y_test.shape"
   ]
  },
  {
   "cell_type": "code",
   "execution_count": 55,
   "metadata": {},
   "outputs": [
    {
     "name": "stdout",
     "output_type": "stream",
     "text": [
      "Shape:  (1015, 43) (1015, 1)\n",
      "\n",
      "\n",
      "Value counts: \n",
      " 1    593\n",
      "0    422\n",
      "Name: Attrition, dtype: int64\n"
     ]
    }
   ],
   "source": [
    "from imblearn.combine import SMOTEENN\n",
    "X, y = SMOTEENN().fit_resample(X, y)\n",
    "print(\"Shape: \",X.shape,y.shape)\n",
    "print(\"\\n\\nValue counts: \\n\",y['Attrition'].value_counts())"
   ]
  },
  {
   "cell_type": "code",
   "execution_count": 56,
   "metadata": {},
   "outputs": [
    {
     "name": "stdout",
     "output_type": "stream",
     "text": [
      "Accuracy: 0.8253968253968254\n",
      "[[326  44]\n",
      " [ 33  38]]\n",
      "              precision    recall  f1-score   support\n",
      "\n",
      "           0       0.91      0.88      0.89       370\n",
      "           1       0.46      0.54      0.50        71\n",
      "\n",
      "    accuracy                           0.83       441\n",
      "   macro avg       0.69      0.71      0.70       441\n",
      "weighted avg       0.84      0.83      0.83       441\n",
      "\n"
     ]
    }
   ],
   "source": [
    "stk_classifier.fit(X,y['Attrition'])\n",
    "y_pred = stk_classifier.predict(X_test)\n",
    "print('Accuracy:',accuracy_score(y_test,y_pred))\n",
    "print(confusion_matrix(y_test,y_pred))\n",
    "print(classification_report(y_test,y_pred))"
   ]
  },
  {
   "cell_type": "code",
   "execution_count": null,
   "metadata": {},
   "outputs": [],
   "source": []
  }
 ],
 "metadata": {
  "kernelspec": {
   "display_name": "Python 3",
   "language": "python",
   "name": "python3"
  },
  "language_info": {
   "codemirror_mode": {
    "name": "ipython",
    "version": 3
   },
   "file_extension": ".py",
   "mimetype": "text/x-python",
   "name": "python",
   "nbconvert_exporter": "python",
   "pygments_lexer": "ipython3",
   "version": "3.8.3"
  }
 },
 "nbformat": 4,
 "nbformat_minor": 4
}
