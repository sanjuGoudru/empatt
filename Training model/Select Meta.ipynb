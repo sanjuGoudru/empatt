{
 "cells": [
  {
   "cell_type": "code",
   "execution_count": 1,
   "metadata": {},
   "outputs": [],
   "source": [
    "import numpy as np, pandas as pd, seaborn as sns, matplotlib.pyplot as plt\n",
    "pd.pandas.set_option('display.max_columns',None)"
   ]
  },
  {
   "cell_type": "code",
   "execution_count": 4,
   "metadata": {},
   "outputs": [],
   "source": [
    "from sklearn.ensemble import StackingClassifier, RandomForestClassifier,AdaBoostClassifier, GradientBoostingClassifier\n",
    "from sklearn.linear_model import LogisticRegression\n",
    "from sklearn.svm import SVC\n",
    "from sklearn.naive_bayes import GaussianNB\n",
    "from xgboost import XGBClassifier\n",
    "import lightgbm as lgb\n",
    "from sklearn.tree import DecisionTreeClassifier"
   ]
  },
  {
   "cell_type": "code",
   "execution_count": 9,
   "metadata": {},
   "outputs": [],
   "source": [
    "from sklearn.metrics import confusion_matrix,classification_report,accuracy_score,fbeta_score"
   ]
  },
  {
   "cell_type": "code",
   "execution_count": 5,
   "metadata": {},
   "outputs": [],
   "source": [
    "rfc = RandomForestClassifier()\n",
    "ada = AdaBoostClassifier()\n",
    "gbc = GradientBoostingClassifier()\n",
    "lr = LogisticRegression()\n",
    "svc = SVC()\n",
    "gnb = GaussianNB()\n",
    "xgb = XGBClassifier()\n",
    "dt = DecisionTreeClassifier()"
   ]
  },
  {
   "cell_type": "code",
   "execution_count": 2,
   "metadata": {},
   "outputs": [],
   "source": [
    "X = pd.read_csv('Data/X_train_enc.csv')\n",
    "y = pd.read_csv('Data/y_train_enc.csv')\n",
    "\n",
    "X_test = pd.read_csv('Data/X_test_enc.csv')\n",
    "y_test = pd.read_csv('Data/y_test_enc.csv')"
   ]
  },
  {
   "cell_type": "code",
   "execution_count": 3,
   "metadata": {},
   "outputs": [
    {
     "name": "stdout",
     "output_type": "stream",
     "text": [
      "Shape:  (1019, 43) (1019, 1)\n",
      "\n",
      "\n",
      "Value counts: \n",
      " 1    597\n",
      "0    422\n",
      "Name: Attrition, dtype: int64\n"
     ]
    }
   ],
   "source": [
    "from imblearn.combine import SMOTEENN\n",
    "X, y = SMOTEENN().fit_resample(X, y)\n",
    "print(\"Shape: \",X.shape,y.shape)\n",
    "print(\"\\n\\nValue counts: \\n\",y['Attrition'].value_counts())"
   ]
  },
  {
   "cell_type": "markdown",
   "metadata": {},
   "source": [
    "## RandomForest as meta"
   ]
  },
  {
   "cell_type": "code",
   "execution_count": 6,
   "metadata": {},
   "outputs": [],
   "source": [
    "estimators = [\n",
    "    ('ada',ada),\n",
    "    \n",
    "    ('gbc',gbc),\n",
    "    ('lr',lr),\n",
    "    ('svc',svc),\n",
    "    \n",
    "    ('gnb',gnb),\n",
    "    \n",
    "    ('xgb',xgb),\n",
    "    \n",
    "    ('dt',dt)\n",
    "    #('rfc',rfc)\n",
    "]"
   ]
  },
  {
   "cell_type": "code",
   "execution_count": 20,
   "metadata": {},
   "outputs": [],
   "source": [
    "stk_classifier = StackingClassifier(estimators=estimators, \n",
    "                                    final_estimator=RandomForestClassifier(n_estimators=100),\n",
    "                                    passthrough=True,\n",
    "                                    cv=5,\n",
    "                                    n_jobs=-1,\n",
    "                                    verbose=3)"
   ]
  },
  {
   "cell_type": "code",
   "execution_count": 21,
   "metadata": {},
   "outputs": [
    {
     "name": "stdout",
     "output_type": "stream",
     "text": [
      "Accuracy: 0.8253968253968254\n",
      "[[325  45]\n",
      " [ 32  39]]\n",
      "              precision    recall  f1-score   support\n",
      "\n",
      "           0       0.91      0.88      0.89       370\n",
      "           1       0.46      0.55      0.50        71\n",
      "\n",
      "    accuracy                           0.83       441\n",
      "   macro avg       0.69      0.71      0.70       441\n",
      "weighted avg       0.84      0.83      0.83       441\n",
      "\n"
     ]
    }
   ],
   "source": [
    "stk_classifier.fit(X,y['Attrition'])\n",
    "y_pred = stk_classifier.predict(X_test)\n",
    "print('Accuracy:',accuracy_score(y_test,y_pred))\n",
    "print(confusion_matrix(y_test,y_pred))\n",
    "print(classification_report(y_test,y_pred))"
   ]
  },
  {
   "cell_type": "markdown",
   "metadata": {},
   "source": [
    "## Adaboost as meta"
   ]
  },
  {
   "cell_type": "code",
   "execution_count": 22,
   "metadata": {},
   "outputs": [],
   "source": [
    "estimators = [\n",
    "    #('ada',ada),\n",
    "    \n",
    "    ('gbc',gbc),\n",
    "    ('lr',lr),\n",
    "    ('svc',svc),\n",
    "    \n",
    "    ('gnb',gnb),\n",
    "    \n",
    "    ('xgb',xgb),\n",
    "    \n",
    "    ('dt',dt),\n",
    "    ('rfc',rfc)\n",
    "]"
   ]
  },
  {
   "cell_type": "code",
   "execution_count": 23,
   "metadata": {},
   "outputs": [],
   "source": [
    "stk_classifier = StackingClassifier(estimators=estimators, \n",
    "                                    final_estimator=AdaBoostClassifier(),\n",
    "                                    passthrough=True,\n",
    "                                    cv=5,\n",
    "                                    n_jobs=-1,\n",
    "                                    verbose=3)"
   ]
  },
  {
   "cell_type": "code",
   "execution_count": 24,
   "metadata": {},
   "outputs": [
    {
     "name": "stdout",
     "output_type": "stream",
     "text": [
      "Accuracy: 0.8095238095238095\n",
      "[[323  47]\n",
      " [ 37  34]]\n",
      "              precision    recall  f1-score   support\n",
      "\n",
      "           0       0.90      0.87      0.88       370\n",
      "           1       0.42      0.48      0.45        71\n",
      "\n",
      "    accuracy                           0.81       441\n",
      "   macro avg       0.66      0.68      0.67       441\n",
      "weighted avg       0.82      0.81      0.81       441\n",
      "\n"
     ]
    }
   ],
   "source": [
    "stk_classifier.fit(X,y['Attrition'])\n",
    "y_pred = stk_classifier.predict(X_test)\n",
    "print('Accuracy:',accuracy_score(y_test,y_pred))\n",
    "print(confusion_matrix(y_test,y_pred))\n",
    "print(classification_report(y_test,y_pred))"
   ]
  },
  {
   "cell_type": "markdown",
   "metadata": {},
   "source": [
    "## Gradient Boost as meta"
   ]
  },
  {
   "cell_type": "code",
   "execution_count": 25,
   "metadata": {},
   "outputs": [],
   "source": [
    "estimators = [\n",
    "    ('ada',ada),\n",
    "    \n",
    "    #('gbc',gbc),\n",
    "    ('lr',lr),\n",
    "    ('svc',svc),\n",
    "    \n",
    "    ('gnb',gnb),\n",
    "    \n",
    "    ('xgb',xgb),\n",
    "    \n",
    "    ('dt',dt),\n",
    "    ('rfc',rfc)\n",
    "]"
   ]
  },
  {
   "cell_type": "code",
   "execution_count": 26,
   "metadata": {},
   "outputs": [],
   "source": [
    "stk_classifier = StackingClassifier(estimators=estimators, \n",
    "                                    final_estimator=GradientBoostingClassifier(),\n",
    "                                    passthrough=True,\n",
    "                                    cv=5,\n",
    "                                    n_jobs=-1,\n",
    "                                    verbose=3)"
   ]
  },
  {
   "cell_type": "code",
   "execution_count": 27,
   "metadata": {},
   "outputs": [
    {
     "name": "stdout",
     "output_type": "stream",
     "text": [
      "Accuracy: 0.8140589569160998\n",
      "[[327  43]\n",
      " [ 39  32]]\n",
      "              precision    recall  f1-score   support\n",
      "\n",
      "           0       0.89      0.88      0.89       370\n",
      "           1       0.43      0.45      0.44        71\n",
      "\n",
      "    accuracy                           0.81       441\n",
      "   macro avg       0.66      0.67      0.66       441\n",
      "weighted avg       0.82      0.81      0.82       441\n",
      "\n"
     ]
    }
   ],
   "source": [
    "stk_classifier.fit(X,y['Attrition'])\n",
    "y_pred = stk_classifier.predict(X_test)\n",
    "print('Accuracy:',accuracy_score(y_test,y_pred))\n",
    "print(confusion_matrix(y_test,y_pred))\n",
    "print(classification_report(y_test,y_pred))"
   ]
  },
  {
   "cell_type": "markdown",
   "metadata": {},
   "source": [
    "## LR as meta"
   ]
  },
  {
   "cell_type": "code",
   "execution_count": 28,
   "metadata": {},
   "outputs": [],
   "source": [
    "estimators = [\n",
    "    ('ada',ada),\n",
    "    \n",
    "    ('gbc',gbc),\n",
    "    #('lr',lr),\n",
    "    ('svc',svc),\n",
    "    \n",
    "    ('gnb',gnb),\n",
    "    \n",
    "    ('xgb',xgb),\n",
    "    \n",
    "    ('dt',dt),\n",
    "    ('rfc',rfc)\n",
    "]"
   ]
  },
  {
   "cell_type": "code",
   "execution_count": 29,
   "metadata": {},
   "outputs": [],
   "source": [
    "stk_classifier = StackingClassifier(estimators=estimators, \n",
    "                                    final_estimator=LogisticRegression(),\n",
    "                                    passthrough=True,\n",
    "                                    cv=5,\n",
    "                                    n_jobs=-1,\n",
    "                                    verbose=3)"
   ]
  },
  {
   "cell_type": "code",
   "execution_count": 30,
   "metadata": {},
   "outputs": [
    {
     "name": "stdout",
     "output_type": "stream",
     "text": [
      "Accuracy: 0.6190476190476191\n",
      "[[225 145]\n",
      " [ 23  48]]\n",
      "              precision    recall  f1-score   support\n",
      "\n",
      "           0       0.91      0.61      0.73       370\n",
      "           1       0.25      0.68      0.36        71\n",
      "\n",
      "    accuracy                           0.62       441\n",
      "   macro avg       0.58      0.64      0.55       441\n",
      "weighted avg       0.80      0.62      0.67       441\n",
      "\n"
     ]
    },
    {
     "name": "stderr",
     "output_type": "stream",
     "text": [
      "D:\\My_Installed_Soft\\Anacondaa\\lib\\site-packages\\sklearn\\linear_model\\_logistic.py:763: ConvergenceWarning: lbfgs failed to converge (status=1):\n",
      "STOP: TOTAL NO. of ITERATIONS REACHED LIMIT.\n",
      "\n",
      "Increase the number of iterations (max_iter) or scale the data as shown in:\n",
      "    https://scikit-learn.org/stable/modules/preprocessing.html\n",
      "Please also refer to the documentation for alternative solver options:\n",
      "    https://scikit-learn.org/stable/modules/linear_model.html#logistic-regression\n",
      "  n_iter_i = _check_optimize_result(\n"
     ]
    }
   ],
   "source": [
    "stk_classifier.fit(X,y['Attrition'])\n",
    "y_pred = stk_classifier.predict(X_test)\n",
    "print('Accuracy:',accuracy_score(y_test,y_pred))\n",
    "print(confusion_matrix(y_test,y_pred))\n",
    "print(classification_report(y_test,y_pred))"
   ]
  },
  {
   "cell_type": "markdown",
   "metadata": {},
   "source": [
    "## SVC as meta"
   ]
  },
  {
   "cell_type": "code",
   "execution_count": 31,
   "metadata": {},
   "outputs": [
    {
     "name": "stdout",
     "output_type": "stream",
     "text": [
      "Accuracy: 0.41043083900226757\n",
      "[[119 251]\n",
      " [  9  62]]\n",
      "              precision    recall  f1-score   support\n",
      "\n",
      "           0       0.93      0.32      0.48       370\n",
      "           1       0.20      0.87      0.32        71\n",
      "\n",
      "    accuracy                           0.41       441\n",
      "   macro avg       0.56      0.60      0.40       441\n",
      "weighted avg       0.81      0.41      0.45       441\n",
      "\n"
     ]
    }
   ],
   "source": [
    "estimators = [\n",
    "    ('ada',ada),\n",
    "    \n",
    "    ('gbc',gbc),\n",
    "    ('lr',lr),\n",
    "    #('svc',svc),\n",
    "    \n",
    "    ('gnb',gnb),\n",
    "    \n",
    "    ('xgb',xgb),\n",
    "    \n",
    "    ('dt',dt),\n",
    "    ('rfc',rfc)\n",
    "]\n",
    "\n",
    "\n",
    "stk_classifier = StackingClassifier(estimators=estimators, \n",
    "                                    final_estimator=SVC(),\n",
    "                                    passthrough=True,\n",
    "                                    cv=5,\n",
    "                                    n_jobs=-1,\n",
    "                                    verbose=3)\n",
    "\n",
    "\n",
    "stk_classifier.fit(X,y['Attrition'])\n",
    "y_pred = stk_classifier.predict(X_test)\n",
    "print('Accuracy:',accuracy_score(y_test,y_pred))\n",
    "print(confusion_matrix(y_test,y_pred))\n",
    "print(classification_report(y_test,y_pred))"
   ]
  },
  {
   "cell_type": "markdown",
   "metadata": {},
   "source": [
    "## Gaussian NB as meta"
   ]
  },
  {
   "cell_type": "code",
   "execution_count": 32,
   "metadata": {},
   "outputs": [
    {
     "name": "stdout",
     "output_type": "stream",
     "text": [
      "Accuracy: 0.7845804988662132\n",
      "[[302  68]\n",
      " [ 27  44]]\n",
      "              precision    recall  f1-score   support\n",
      "\n",
      "           0       0.92      0.82      0.86       370\n",
      "           1       0.39      0.62      0.48        71\n",
      "\n",
      "    accuracy                           0.78       441\n",
      "   macro avg       0.66      0.72      0.67       441\n",
      "weighted avg       0.83      0.78      0.80       441\n",
      "\n"
     ]
    }
   ],
   "source": [
    "estimators = [\n",
    "    ('ada',ada),\n",
    "    \n",
    "    ('gbc',gbc),\n",
    "    ('lr',lr),\n",
    "    ('svc',svc),\n",
    "    \n",
    "    #('gnb',gnb),\n",
    "    \n",
    "    ('xgb',xgb),\n",
    "    \n",
    "    ('dt',dt),\n",
    "    ('rfc',rfc)\n",
    "]\n",
    "\n",
    "\n",
    "stk_classifier = StackingClassifier(estimators=estimators, \n",
    "                                    final_estimator=GaussianNB(),\n",
    "                                    passthrough=True,\n",
    "                                    cv=5,\n",
    "                                    n_jobs=-1,\n",
    "                                    verbose=3)\n",
    "\n",
    "\n",
    "stk_classifier.fit(X,y['Attrition'])\n",
    "y_pred = stk_classifier.predict(X_test)\n",
    "print('Accuracy:',accuracy_score(y_test,y_pred))\n",
    "print(confusion_matrix(y_test,y_pred))\n",
    "print(classification_report(y_test,y_pred))"
   ]
  },
  {
   "cell_type": "markdown",
   "metadata": {},
   "source": [
    "## XGboost as meta"
   ]
  },
  {
   "cell_type": "code",
   "execution_count": 33,
   "metadata": {},
   "outputs": [
    {
     "name": "stderr",
     "output_type": "stream",
     "text": [
      "D:\\My_Installed_Soft\\Anacondaa\\lib\\site-packages\\xgboost\\sklearn.py:888: UserWarning: The use of label encoder in XGBClassifier is deprecated and will be removed in a future release. To remove this warning, do the following: 1) Pass option use_label_encoder=False when constructing XGBClassifier object; and 2) Encode your labels (y) as integers starting with 0, i.e. 0, 1, 2, ..., [num_class - 1].\n",
      "  warnings.warn(label_encoder_deprecation_msg, UserWarning)\n"
     ]
    },
    {
     "name": "stdout",
     "output_type": "stream",
     "text": [
      "[16:02:08] WARNING: C:/Users/Administrator/workspace/xgboost-win64_release_1.3.0/src/learner.cc:1061: Starting in XGBoost 1.3.0, the default evaluation metric used with the objective 'binary:logistic' was changed from 'error' to 'logloss'. Explicitly set eval_metric if you'd like to restore the old behavior.\n",
      "Accuracy: 0.8344671201814059\n",
      "[[333  37]\n",
      " [ 36  35]]\n",
      "              precision    recall  f1-score   support\n",
      "\n",
      "           0       0.90      0.90      0.90       370\n",
      "           1       0.49      0.49      0.49        71\n",
      "\n",
      "    accuracy                           0.83       441\n",
      "   macro avg       0.69      0.70      0.70       441\n",
      "weighted avg       0.84      0.83      0.83       441\n",
      "\n"
     ]
    }
   ],
   "source": [
    "estimators = [\n",
    "    ('ada',ada),\n",
    "    \n",
    "    ('gbc',gbc),\n",
    "    ('lr',lr),\n",
    "    ('svc',svc),\n",
    "    \n",
    "    ('gnb',gnb),\n",
    "    \n",
    "    #('xgb',xgb),\n",
    "    \n",
    "    ('dt',dt),\n",
    "    ('rfc',rfc)\n",
    "]\n",
    "\n",
    "\n",
    "stk_classifier = StackingClassifier(estimators=estimators, \n",
    "                                    final_estimator=XGBClassifier(),\n",
    "                                    passthrough=True,\n",
    "                                    cv=5,\n",
    "                                    n_jobs=-1,\n",
    "                                    verbose=3)\n",
    "\n",
    "\n",
    "stk_classifier.fit(X,y['Attrition'])\n",
    "y_pred = stk_classifier.predict(X_test)\n",
    "print('Accuracy:',accuracy_score(y_test,y_pred))\n",
    "print(confusion_matrix(y_test,y_pred))\n",
    "print(classification_report(y_test,y_pred))"
   ]
  },
  {
   "cell_type": "markdown",
   "metadata": {},
   "source": [
    "## DT as meta"
   ]
  },
  {
   "cell_type": "code",
   "execution_count": 39,
   "metadata": {},
   "outputs": [
    {
     "name": "stdout",
     "output_type": "stream",
     "text": [
      "Accuracy: 0.8412698412698413\n",
      "[[334  36]\n",
      " [ 34  37]]\n",
      "              precision    recall  f1-score   support\n",
      "\n",
      "           0       0.91      0.90      0.91       370\n",
      "           1       0.51      0.52      0.51        71\n",
      "\n",
      "    accuracy                           0.84       441\n",
      "   macro avg       0.71      0.71      0.71       441\n",
      "weighted avg       0.84      0.84      0.84       441\n",
      "\n"
     ]
    }
   ],
   "source": [
    "estimators = [\n",
    "    ('ada',ada),\n",
    "    \n",
    "    ('gbc',gbc),\n",
    "    ('lr',lr),\n",
    "    ('svc',svc),\n",
    "    \n",
    "    ('gnb',gnb),\n",
    "    \n",
    "    ('xgb',xgb),\n",
    "    \n",
    "    #('dt',dt),\n",
    "    ('rfc',rfc)\n",
    "]\n",
    "\n",
    "\n",
    "stk_classifier = StackingClassifier(estimators=estimators, \n",
    "                                    final_estimator=DecisionTreeClassifier(max_depth=4),\n",
    "                                    passthrough=True,\n",
    "                                    cv=5,\n",
    "                                    n_jobs=-1,\n",
    "                                    verbose=3)\n",
    "\n",
    "\n",
    "stk_classifier.fit(X,y['Attrition'])\n",
    "y_pred = stk_classifier.predict(X_test)\n",
    "print('Accuracy:',accuracy_score(y_test,y_pred))\n",
    "print(confusion_matrix(y_test,y_pred))\n",
    "print(classification_report(y_test,y_pred))"
   ]
  },
  {
   "cell_type": "code",
   "execution_count": null,
   "metadata": {},
   "outputs": [],
   "source": []
  }
 ],
 "metadata": {
  "kernelspec": {
   "display_name": "Python 3",
   "language": "python",
   "name": "python3"
  },
  "language_info": {
   "codemirror_mode": {
    "name": "ipython",
    "version": 3
   },
   "file_extension": ".py",
   "mimetype": "text/x-python",
   "name": "python",
   "nbconvert_exporter": "python",
   "pygments_lexer": "ipython3",
   "version": "3.8.3"
  }
 },
 "nbformat": 4,
 "nbformat_minor": 4
}
